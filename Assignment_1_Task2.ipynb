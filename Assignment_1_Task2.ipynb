{
  "nbformat": 4,
  "nbformat_minor": 0,
  "metadata": {
    "colab": {
      "provenance": []
    },
    "kernelspec": {
      "name": "python3",
      "display_name": "Python 3"
    },
    "language_info": {
      "name": "python"
    }
  },
  "cells": [
    {
      "cell_type": "markdown",
      "source": [
        "### Read the csv file."
      ],
      "metadata": {
        "id": "RiT6fbNvByFJ"
      }
    },
    {
      "cell_type": "code",
      "execution_count": null,
      "metadata": {
        "id": "ba2PO6vQyGV_",
        "colab": {
          "base_uri": "https://localhost:8080/",
          "height": 663
        },
        "outputId": "4f9dfb81-b9dd-4052-9c17-10bee974f9b2"
      },
      "outputs": [
        {
          "output_type": "execute_result",
          "data": {
            "text/plain": [
              "   adult                     backdrop_path    budget  \\\n",
              "0  False  /tmU7GeKVybMWFButWEGl2M4GeiP.jpg   6000000   \n",
              "1  False  /wPU78OPN4BYEgWYdXyg0phMee64.jpg  25000000   \n",
              "2  False  /ejniJnlOdtSgtbh8D7u2RxT6Uli.jpg         0   \n",
              "3  False  /kGzFbGhp99zva6oZODW5atUtnqi.jpg  13000000   \n",
              "4  False  /zb6fM1CX41D9rF9hdgclu0peUmy.jpg  22000000   \n",
              "\n",
              "                                              genres  \\\n",
              "0  [{'id': 18, 'name': 'Drama'}, {'id': 80, 'name...   \n",
              "1  [{'id': 18, 'name': 'Drama'}, {'id': 80, 'name...   \n",
              "2  [{'id': 35, 'name': 'Comedy'}, {'id': 14, 'nam...   \n",
              "3  [{'id': 18, 'name': 'Drama'}, {'id': 80, 'name...   \n",
              "4  [{'id': 18, 'name': 'Drama'}, {'id': 36, 'name...   \n",
              "\n",
              "                                            homepage      id     imdb_id  \\\n",
              "0                       http://www.thegodfather.com/     238   tt0068646   \n",
              "1                                                NaN     278   tt0111161   \n",
              "2  https://videocine.com.mx/peliculas/cuando-sea-...  772071  tt12076762   \n",
              "3                                                NaN     240   tt0071562   \n",
              "4                     http://www.schindlerslist.com/     424   tt0108052   \n",
              "\n",
              "  original_language            original_title  \\\n",
              "0                en             The Godfather   \n",
              "1                en  The Shawshank Redemption   \n",
              "2                es          Cuando Sea Joven   \n",
              "3                en     The Godfather Part II   \n",
              "4                en          Schindler's List   \n",
              "\n",
              "                                            overview  ...  \\\n",
              "0  Spanning the years 1945 to 1955, a chronicle o...  ...   \n",
              "1  Framed in the 1940s for the double murder of h...  ...   \n",
              "2  70-year-old Malena gets a second chance at lif...  ...   \n",
              "3  In the continuing saga of the Corleone crime f...  ...   \n",
              "4  The true story of how businessman Oskar Schind...  ...   \n",
              "\n",
              "                                             tagline  \\\n",
              "0                         An offer you can't refuse.   \n",
              "1  Fear can hold you prisoner. Hope can set you f...   \n",
              "2                                                NaN   \n",
              "3  I don't feel I have to wipe everybody out, Tom...   \n",
              "4    Whoever saves one life, saves the world entire.   \n",
              "\n",
              "                      title  video vote_average vote_count  \\\n",
              "0             The Godfather  False        8.712      17640   \n",
              "1  The Shawshank Redemption  False        8.701      23480   \n",
              "2          Cuando Sea Joven  False        8.642        212   \n",
              "3     The Godfather Part II  False        8.597      10689   \n",
              "4          Schindler's List  False        8.568      13885   \n",
              "\n",
              "   belongs_to_collection.id  belongs_to_collection.name  \\\n",
              "0                     230.0    The Godfather Collection   \n",
              "1                       NaN                         NaN   \n",
              "2                       NaN                         NaN   \n",
              "3                     230.0    The Godfather Collection   \n",
              "4                       NaN                         NaN   \n",
              "\n",
              "  belongs_to_collection.poster_path belongs_to_collection.backdrop_path  \\\n",
              "0  /9Baumh5J9N1nJUYzNkm0xsgjpwY.jpg    /3WZTxpgscsmoUk81TuECXdFOD0R.jpg   \n",
              "1                               NaN                                 NaN   \n",
              "2                               NaN                                 NaN   \n",
              "3  /9Baumh5J9N1nJUYzNkm0xsgjpwY.jpg    /3WZTxpgscsmoUk81TuECXdFOD0R.jpg   \n",
              "4                               NaN                                 NaN   \n",
              "\n",
              "  belongs_to_collection  \n",
              "0                   NaN  \n",
              "1                   NaN  \n",
              "2                   NaN  \n",
              "3                   NaN  \n",
              "4                   NaN  \n",
              "\n",
              "[5 rows x 29 columns]"
            ],
            "text/html": [
              "\n",
              "  <div id=\"df-64a2dc33-3678-4234-a6b9-c6109b6eaf47\">\n",
              "    <div class=\"colab-df-container\">\n",
              "      <div>\n",
              "<style scoped>\n",
              "    .dataframe tbody tr th:only-of-type {\n",
              "        vertical-align: middle;\n",
              "    }\n",
              "\n",
              "    .dataframe tbody tr th {\n",
              "        vertical-align: top;\n",
              "    }\n",
              "\n",
              "    .dataframe thead th {\n",
              "        text-align: right;\n",
              "    }\n",
              "</style>\n",
              "<table border=\"1\" class=\"dataframe\">\n",
              "  <thead>\n",
              "    <tr style=\"text-align: right;\">\n",
              "      <th></th>\n",
              "      <th>adult</th>\n",
              "      <th>backdrop_path</th>\n",
              "      <th>budget</th>\n",
              "      <th>genres</th>\n",
              "      <th>homepage</th>\n",
              "      <th>id</th>\n",
              "      <th>imdb_id</th>\n",
              "      <th>original_language</th>\n",
              "      <th>original_title</th>\n",
              "      <th>overview</th>\n",
              "      <th>...</th>\n",
              "      <th>tagline</th>\n",
              "      <th>title</th>\n",
              "      <th>video</th>\n",
              "      <th>vote_average</th>\n",
              "      <th>vote_count</th>\n",
              "      <th>belongs_to_collection.id</th>\n",
              "      <th>belongs_to_collection.name</th>\n",
              "      <th>belongs_to_collection.poster_path</th>\n",
              "      <th>belongs_to_collection.backdrop_path</th>\n",
              "      <th>belongs_to_collection</th>\n",
              "    </tr>\n",
              "  </thead>\n",
              "  <tbody>\n",
              "    <tr>\n",
              "      <th>0</th>\n",
              "      <td>False</td>\n",
              "      <td>/tmU7GeKVybMWFButWEGl2M4GeiP.jpg</td>\n",
              "      <td>6000000</td>\n",
              "      <td>[{'id': 18, 'name': 'Drama'}, {'id': 80, 'name...</td>\n",
              "      <td>http://www.thegodfather.com/</td>\n",
              "      <td>238</td>\n",
              "      <td>tt0068646</td>\n",
              "      <td>en</td>\n",
              "      <td>The Godfather</td>\n",
              "      <td>Spanning the years 1945 to 1955, a chronicle o...</td>\n",
              "      <td>...</td>\n",
              "      <td>An offer you can't refuse.</td>\n",
              "      <td>The Godfather</td>\n",
              "      <td>False</td>\n",
              "      <td>8.712</td>\n",
              "      <td>17640</td>\n",
              "      <td>230.0</td>\n",
              "      <td>The Godfather Collection</td>\n",
              "      <td>/9Baumh5J9N1nJUYzNkm0xsgjpwY.jpg</td>\n",
              "      <td>/3WZTxpgscsmoUk81TuECXdFOD0R.jpg</td>\n",
              "      <td>NaN</td>\n",
              "    </tr>\n",
              "    <tr>\n",
              "      <th>1</th>\n",
              "      <td>False</td>\n",
              "      <td>/wPU78OPN4BYEgWYdXyg0phMee64.jpg</td>\n",
              "      <td>25000000</td>\n",
              "      <td>[{'id': 18, 'name': 'Drama'}, {'id': 80, 'name...</td>\n",
              "      <td>NaN</td>\n",
              "      <td>278</td>\n",
              "      <td>tt0111161</td>\n",
              "      <td>en</td>\n",
              "      <td>The Shawshank Redemption</td>\n",
              "      <td>Framed in the 1940s for the double murder of h...</td>\n",
              "      <td>...</td>\n",
              "      <td>Fear can hold you prisoner. Hope can set you f...</td>\n",
              "      <td>The Shawshank Redemption</td>\n",
              "      <td>False</td>\n",
              "      <td>8.701</td>\n",
              "      <td>23480</td>\n",
              "      <td>NaN</td>\n",
              "      <td>NaN</td>\n",
              "      <td>NaN</td>\n",
              "      <td>NaN</td>\n",
              "      <td>NaN</td>\n",
              "    </tr>\n",
              "    <tr>\n",
              "      <th>2</th>\n",
              "      <td>False</td>\n",
              "      <td>/ejniJnlOdtSgtbh8D7u2RxT6Uli.jpg</td>\n",
              "      <td>0</td>\n",
              "      <td>[{'id': 35, 'name': 'Comedy'}, {'id': 14, 'nam...</td>\n",
              "      <td>https://videocine.com.mx/peliculas/cuando-sea-...</td>\n",
              "      <td>772071</td>\n",
              "      <td>tt12076762</td>\n",
              "      <td>es</td>\n",
              "      <td>Cuando Sea Joven</td>\n",
              "      <td>70-year-old Malena gets a second chance at lif...</td>\n",
              "      <td>...</td>\n",
              "      <td>NaN</td>\n",
              "      <td>Cuando Sea Joven</td>\n",
              "      <td>False</td>\n",
              "      <td>8.642</td>\n",
              "      <td>212</td>\n",
              "      <td>NaN</td>\n",
              "      <td>NaN</td>\n",
              "      <td>NaN</td>\n",
              "      <td>NaN</td>\n",
              "      <td>NaN</td>\n",
              "    </tr>\n",
              "    <tr>\n",
              "      <th>3</th>\n",
              "      <td>False</td>\n",
              "      <td>/kGzFbGhp99zva6oZODW5atUtnqi.jpg</td>\n",
              "      <td>13000000</td>\n",
              "      <td>[{'id': 18, 'name': 'Drama'}, {'id': 80, 'name...</td>\n",
              "      <td>NaN</td>\n",
              "      <td>240</td>\n",
              "      <td>tt0071562</td>\n",
              "      <td>en</td>\n",
              "      <td>The Godfather Part II</td>\n",
              "      <td>In the continuing saga of the Corleone crime f...</td>\n",
              "      <td>...</td>\n",
              "      <td>I don't feel I have to wipe everybody out, Tom...</td>\n",
              "      <td>The Godfather Part II</td>\n",
              "      <td>False</td>\n",
              "      <td>8.597</td>\n",
              "      <td>10689</td>\n",
              "      <td>230.0</td>\n",
              "      <td>The Godfather Collection</td>\n",
              "      <td>/9Baumh5J9N1nJUYzNkm0xsgjpwY.jpg</td>\n",
              "      <td>/3WZTxpgscsmoUk81TuECXdFOD0R.jpg</td>\n",
              "      <td>NaN</td>\n",
              "    </tr>\n",
              "    <tr>\n",
              "      <th>4</th>\n",
              "      <td>False</td>\n",
              "      <td>/zb6fM1CX41D9rF9hdgclu0peUmy.jpg</td>\n",
              "      <td>22000000</td>\n",
              "      <td>[{'id': 18, 'name': 'Drama'}, {'id': 36, 'name...</td>\n",
              "      <td>http://www.schindlerslist.com/</td>\n",
              "      <td>424</td>\n",
              "      <td>tt0108052</td>\n",
              "      <td>en</td>\n",
              "      <td>Schindler's List</td>\n",
              "      <td>The true story of how businessman Oskar Schind...</td>\n",
              "      <td>...</td>\n",
              "      <td>Whoever saves one life, saves the world entire.</td>\n",
              "      <td>Schindler's List</td>\n",
              "      <td>False</td>\n",
              "      <td>8.568</td>\n",
              "      <td>13885</td>\n",
              "      <td>NaN</td>\n",
              "      <td>NaN</td>\n",
              "      <td>NaN</td>\n",
              "      <td>NaN</td>\n",
              "      <td>NaN</td>\n",
              "    </tr>\n",
              "  </tbody>\n",
              "</table>\n",
              "<p>5 rows × 29 columns</p>\n",
              "</div>\n",
              "      <button class=\"colab-df-convert\" onclick=\"convertToInteractive('df-64a2dc33-3678-4234-a6b9-c6109b6eaf47')\"\n",
              "              title=\"Convert this dataframe to an interactive table.\"\n",
              "              style=\"display:none;\">\n",
              "        \n",
              "  <svg xmlns=\"http://www.w3.org/2000/svg\" height=\"24px\"viewBox=\"0 0 24 24\"\n",
              "       width=\"24px\">\n",
              "    <path d=\"M0 0h24v24H0V0z\" fill=\"none\"/>\n",
              "    <path d=\"M18.56 5.44l.94 2.06.94-2.06 2.06-.94-2.06-.94-.94-2.06-.94 2.06-2.06.94zm-11 1L8.5 8.5l.94-2.06 2.06-.94-2.06-.94L8.5 2.5l-.94 2.06-2.06.94zm10 10l.94 2.06.94-2.06 2.06-.94-2.06-.94-.94-2.06-.94 2.06-2.06.94z\"/><path d=\"M17.41 7.96l-1.37-1.37c-.4-.4-.92-.59-1.43-.59-.52 0-1.04.2-1.43.59L10.3 9.45l-7.72 7.72c-.78.78-.78 2.05 0 2.83L4 21.41c.39.39.9.59 1.41.59.51 0 1.02-.2 1.41-.59l7.78-7.78 2.81-2.81c.8-.78.8-2.07 0-2.86zM5.41 20L4 18.59l7.72-7.72 1.47 1.35L5.41 20z\"/>\n",
              "  </svg>\n",
              "      </button>\n",
              "      \n",
              "  <style>\n",
              "    .colab-df-container {\n",
              "      display:flex;\n",
              "      flex-wrap:wrap;\n",
              "      gap: 12px;\n",
              "    }\n",
              "\n",
              "    .colab-df-convert {\n",
              "      background-color: #E8F0FE;\n",
              "      border: none;\n",
              "      border-radius: 50%;\n",
              "      cursor: pointer;\n",
              "      display: none;\n",
              "      fill: #1967D2;\n",
              "      height: 32px;\n",
              "      padding: 0 0 0 0;\n",
              "      width: 32px;\n",
              "    }\n",
              "\n",
              "    .colab-df-convert:hover {\n",
              "      background-color: #E2EBFA;\n",
              "      box-shadow: 0px 1px 2px rgba(60, 64, 67, 0.3), 0px 1px 3px 1px rgba(60, 64, 67, 0.15);\n",
              "      fill: #174EA6;\n",
              "    }\n",
              "\n",
              "    [theme=dark] .colab-df-convert {\n",
              "      background-color: #3B4455;\n",
              "      fill: #D2E3FC;\n",
              "    }\n",
              "\n",
              "    [theme=dark] .colab-df-convert:hover {\n",
              "      background-color: #434B5C;\n",
              "      box-shadow: 0px 1px 3px 1px rgba(0, 0, 0, 0.15);\n",
              "      filter: drop-shadow(0px 1px 2px rgba(0, 0, 0, 0.3));\n",
              "      fill: #FFFFFF;\n",
              "    }\n",
              "  </style>\n",
              "\n",
              "      <script>\n",
              "        const buttonEl =\n",
              "          document.querySelector('#df-64a2dc33-3678-4234-a6b9-c6109b6eaf47 button.colab-df-convert');\n",
              "        buttonEl.style.display =\n",
              "          google.colab.kernel.accessAllowed ? 'block' : 'none';\n",
              "\n",
              "        async function convertToInteractive(key) {\n",
              "          const element = document.querySelector('#df-64a2dc33-3678-4234-a6b9-c6109b6eaf47');\n",
              "          const dataTable =\n",
              "            await google.colab.kernel.invokeFunction('convertToInteractive',\n",
              "                                                     [key], {});\n",
              "          if (!dataTable) return;\n",
              "\n",
              "          const docLinkHtml = 'Like what you see? Visit the ' +\n",
              "            '<a target=\"_blank\" href=https://colab.research.google.com/notebooks/data_table.ipynb>data table notebook</a>'\n",
              "            + ' to learn more about interactive tables.';\n",
              "          element.innerHTML = '';\n",
              "          dataTable['output_type'] = 'display_data';\n",
              "          await google.colab.output.renderOutput(dataTable, element);\n",
              "          const docLink = document.createElement('div');\n",
              "          docLink.innerHTML = docLinkHtml;\n",
              "          element.appendChild(docLink);\n",
              "        }\n",
              "      </script>\n",
              "    </div>\n",
              "  </div>\n",
              "  "
            ]
          },
          "metadata": {},
          "execution_count": 2
        }
      ],
      "source": [
        "import pandas as pd\n",
        "df = pd.read_csv(\"movies_raw.csv\")\n",
        "df.head(5)"
      ]
    },
    {
      "cell_type": "markdown",
      "source": [
        "### There are 29 columns of data in this csv file, but there are many columns that are not useful for data analysis, such as backdrop_path column, homepage column, poster_path column, etc. Therefore, I first extracted the useful columns roughly."
      ],
      "metadata": {
        "id": "hd89eQqJCZD1"
      }
    },
    {
      "cell_type": "code",
      "source": [
        "df = df[[\"title\",\"adult\",\"budget\",\"genres\",\"original_language\",\"original_title\",\"overview\",\"popularity\",\n",
        "                 \"production_companies\",\"production_countries\",\"release_date\",\"revenue\",\"runtime\",\"status\",\n",
        "                 \"vote_average\",\"vote_count\"]]\n",
        "df.shape"
      ],
      "metadata": {
        "id": "s-XTBfeRy7WE",
        "colab": {
          "base_uri": "https://localhost:8080/"
        },
        "outputId": "289fcf43-cfad-4c59-d8f8-e6401c291cdf"
      },
      "execution_count": null,
      "outputs": [
        {
          "output_type": "execute_result",
          "data": {
            "text/plain": [
              "(9980, 16)"
            ]
          },
          "metadata": {},
          "execution_count": 3
        }
      ]
    },
    {
      "cell_type": "markdown",
      "source": [
        "### Now the whole dataframe has only 16 columns."
      ],
      "metadata": {
        "id": "yu4c_8NVEJpP"
      }
    },
    {
      "cell_type": "code",
      "source": [
        "df.head(5)"
      ],
      "metadata": {
        "id": "Dk3GgDK3y_lg",
        "colab": {
          "base_uri": "https://localhost:8080/",
          "height": 634
        },
        "outputId": "99345fa2-4d44-41dc-8644-20825a3443a1"
      },
      "execution_count": null,
      "outputs": [
        {
          "output_type": "execute_result",
          "data": {
            "text/plain": [
              "                      title  adult    budget  \\\n",
              "0             The Godfather  False   6000000   \n",
              "1  The Shawshank Redemption  False  25000000   \n",
              "2          Cuando Sea Joven  False         0   \n",
              "3     The Godfather Part II  False  13000000   \n",
              "4          Schindler's List  False  22000000   \n",
              "\n",
              "                                              genres original_language  \\\n",
              "0  [{'id': 18, 'name': 'Drama'}, {'id': 80, 'name...                en   \n",
              "1  [{'id': 18, 'name': 'Drama'}, {'id': 80, 'name...                en   \n",
              "2  [{'id': 35, 'name': 'Comedy'}, {'id': 14, 'nam...                es   \n",
              "3  [{'id': 18, 'name': 'Drama'}, {'id': 80, 'name...                en   \n",
              "4  [{'id': 18, 'name': 'Drama'}, {'id': 36, 'name...                en   \n",
              "\n",
              "             original_title  \\\n",
              "0             The Godfather   \n",
              "1  The Shawshank Redemption   \n",
              "2          Cuando Sea Joven   \n",
              "3     The Godfather Part II   \n",
              "4          Schindler's List   \n",
              "\n",
              "                                            overview  popularity  \\\n",
              "0  Spanning the years 1945 to 1955, a chronicle o...     129.885   \n",
              "1  Framed in the 1940s for the double murder of h...      92.438   \n",
              "2  70-year-old Malena gets a second chance at lif...      37.959   \n",
              "3  In the continuing saga of the Corleone crime f...      80.308   \n",
              "4  The true story of how businessman Oskar Schind...      50.098   \n",
              "\n",
              "                                production_companies  \\\n",
              "0  [{'id': 4, 'logo_path': '/gz66EfNoYPqHTYI4q9UE...   \n",
              "1  [{'id': 97, 'logo_path': '/7znWcbDd4PcJzJUlJxY...   \n",
              "2  [{'id': 1632, 'logo_path': '/cisLn1YAUuptXVBa0...   \n",
              "3  [{'id': 4, 'logo_path': '/gz66EfNoYPqHTYI4q9UE...   \n",
              "4  [{'id': 56, 'logo_path': '/cEaxANEisCqeEoRvODv...   \n",
              "\n",
              "                                production_countries release_date    revenue  \\\n",
              "0  [{'iso_3166_1': 'US', 'name': 'United States o...   1972-03-14  245066411   \n",
              "1  [{'iso_3166_1': 'US', 'name': 'United States o...   1994-09-23   28341469   \n",
              "2                                                 []   2022-09-14          0   \n",
              "3  [{'iso_3166_1': 'US', 'name': 'United States o...   1974-12-20  102600000   \n",
              "4  [{'iso_3166_1': 'US', 'name': 'United States o...   1993-12-15  321365567   \n",
              "\n",
              "   runtime    status  vote_average  vote_count  \n",
              "0      175  Released         8.712       17640  \n",
              "1      142  Released         8.701       23480  \n",
              "2      115  Released         8.642         212  \n",
              "3      202  Released         8.597       10689  \n",
              "4      195  Released         8.568       13885  "
            ],
            "text/html": [
              "\n",
              "  <div id=\"df-6465c7de-6940-4b37-8d89-c01ae7a7432f\">\n",
              "    <div class=\"colab-df-container\">\n",
              "      <div>\n",
              "<style scoped>\n",
              "    .dataframe tbody tr th:only-of-type {\n",
              "        vertical-align: middle;\n",
              "    }\n",
              "\n",
              "    .dataframe tbody tr th {\n",
              "        vertical-align: top;\n",
              "    }\n",
              "\n",
              "    .dataframe thead th {\n",
              "        text-align: right;\n",
              "    }\n",
              "</style>\n",
              "<table border=\"1\" class=\"dataframe\">\n",
              "  <thead>\n",
              "    <tr style=\"text-align: right;\">\n",
              "      <th></th>\n",
              "      <th>title</th>\n",
              "      <th>adult</th>\n",
              "      <th>budget</th>\n",
              "      <th>genres</th>\n",
              "      <th>original_language</th>\n",
              "      <th>original_title</th>\n",
              "      <th>overview</th>\n",
              "      <th>popularity</th>\n",
              "      <th>production_companies</th>\n",
              "      <th>production_countries</th>\n",
              "      <th>release_date</th>\n",
              "      <th>revenue</th>\n",
              "      <th>runtime</th>\n",
              "      <th>status</th>\n",
              "      <th>vote_average</th>\n",
              "      <th>vote_count</th>\n",
              "    </tr>\n",
              "  </thead>\n",
              "  <tbody>\n",
              "    <tr>\n",
              "      <th>0</th>\n",
              "      <td>The Godfather</td>\n",
              "      <td>False</td>\n",
              "      <td>6000000</td>\n",
              "      <td>[{'id': 18, 'name': 'Drama'}, {'id': 80, 'name...</td>\n",
              "      <td>en</td>\n",
              "      <td>The Godfather</td>\n",
              "      <td>Spanning the years 1945 to 1955, a chronicle o...</td>\n",
              "      <td>129.885</td>\n",
              "      <td>[{'id': 4, 'logo_path': '/gz66EfNoYPqHTYI4q9UE...</td>\n",
              "      <td>[{'iso_3166_1': 'US', 'name': 'United States o...</td>\n",
              "      <td>1972-03-14</td>\n",
              "      <td>245066411</td>\n",
              "      <td>175</td>\n",
              "      <td>Released</td>\n",
              "      <td>8.712</td>\n",
              "      <td>17640</td>\n",
              "    </tr>\n",
              "    <tr>\n",
              "      <th>1</th>\n",
              "      <td>The Shawshank Redemption</td>\n",
              "      <td>False</td>\n",
              "      <td>25000000</td>\n",
              "      <td>[{'id': 18, 'name': 'Drama'}, {'id': 80, 'name...</td>\n",
              "      <td>en</td>\n",
              "      <td>The Shawshank Redemption</td>\n",
              "      <td>Framed in the 1940s for the double murder of h...</td>\n",
              "      <td>92.438</td>\n",
              "      <td>[{'id': 97, 'logo_path': '/7znWcbDd4PcJzJUlJxY...</td>\n",
              "      <td>[{'iso_3166_1': 'US', 'name': 'United States o...</td>\n",
              "      <td>1994-09-23</td>\n",
              "      <td>28341469</td>\n",
              "      <td>142</td>\n",
              "      <td>Released</td>\n",
              "      <td>8.701</td>\n",
              "      <td>23480</td>\n",
              "    </tr>\n",
              "    <tr>\n",
              "      <th>2</th>\n",
              "      <td>Cuando Sea Joven</td>\n",
              "      <td>False</td>\n",
              "      <td>0</td>\n",
              "      <td>[{'id': 35, 'name': 'Comedy'}, {'id': 14, 'nam...</td>\n",
              "      <td>es</td>\n",
              "      <td>Cuando Sea Joven</td>\n",
              "      <td>70-year-old Malena gets a second chance at lif...</td>\n",
              "      <td>37.959</td>\n",
              "      <td>[{'id': 1632, 'logo_path': '/cisLn1YAUuptXVBa0...</td>\n",
              "      <td>[]</td>\n",
              "      <td>2022-09-14</td>\n",
              "      <td>0</td>\n",
              "      <td>115</td>\n",
              "      <td>Released</td>\n",
              "      <td>8.642</td>\n",
              "      <td>212</td>\n",
              "    </tr>\n",
              "    <tr>\n",
              "      <th>3</th>\n",
              "      <td>The Godfather Part II</td>\n",
              "      <td>False</td>\n",
              "      <td>13000000</td>\n",
              "      <td>[{'id': 18, 'name': 'Drama'}, {'id': 80, 'name...</td>\n",
              "      <td>en</td>\n",
              "      <td>The Godfather Part II</td>\n",
              "      <td>In the continuing saga of the Corleone crime f...</td>\n",
              "      <td>80.308</td>\n",
              "      <td>[{'id': 4, 'logo_path': '/gz66EfNoYPqHTYI4q9UE...</td>\n",
              "      <td>[{'iso_3166_1': 'US', 'name': 'United States o...</td>\n",
              "      <td>1974-12-20</td>\n",
              "      <td>102600000</td>\n",
              "      <td>202</td>\n",
              "      <td>Released</td>\n",
              "      <td>8.597</td>\n",
              "      <td>10689</td>\n",
              "    </tr>\n",
              "    <tr>\n",
              "      <th>4</th>\n",
              "      <td>Schindler's List</td>\n",
              "      <td>False</td>\n",
              "      <td>22000000</td>\n",
              "      <td>[{'id': 18, 'name': 'Drama'}, {'id': 36, 'name...</td>\n",
              "      <td>en</td>\n",
              "      <td>Schindler's List</td>\n",
              "      <td>The true story of how businessman Oskar Schind...</td>\n",
              "      <td>50.098</td>\n",
              "      <td>[{'id': 56, 'logo_path': '/cEaxANEisCqeEoRvODv...</td>\n",
              "      <td>[{'iso_3166_1': 'US', 'name': 'United States o...</td>\n",
              "      <td>1993-12-15</td>\n",
              "      <td>321365567</td>\n",
              "      <td>195</td>\n",
              "      <td>Released</td>\n",
              "      <td>8.568</td>\n",
              "      <td>13885</td>\n",
              "    </tr>\n",
              "  </tbody>\n",
              "</table>\n",
              "</div>\n",
              "      <button class=\"colab-df-convert\" onclick=\"convertToInteractive('df-6465c7de-6940-4b37-8d89-c01ae7a7432f')\"\n",
              "              title=\"Convert this dataframe to an interactive table.\"\n",
              "              style=\"display:none;\">\n",
              "        \n",
              "  <svg xmlns=\"http://www.w3.org/2000/svg\" height=\"24px\"viewBox=\"0 0 24 24\"\n",
              "       width=\"24px\">\n",
              "    <path d=\"M0 0h24v24H0V0z\" fill=\"none\"/>\n",
              "    <path d=\"M18.56 5.44l.94 2.06.94-2.06 2.06-.94-2.06-.94-.94-2.06-.94 2.06-2.06.94zm-11 1L8.5 8.5l.94-2.06 2.06-.94-2.06-.94L8.5 2.5l-.94 2.06-2.06.94zm10 10l.94 2.06.94-2.06 2.06-.94-2.06-.94-.94-2.06-.94 2.06-2.06.94z\"/><path d=\"M17.41 7.96l-1.37-1.37c-.4-.4-.92-.59-1.43-.59-.52 0-1.04.2-1.43.59L10.3 9.45l-7.72 7.72c-.78.78-.78 2.05 0 2.83L4 21.41c.39.39.9.59 1.41.59.51 0 1.02-.2 1.41-.59l7.78-7.78 2.81-2.81c.8-.78.8-2.07 0-2.86zM5.41 20L4 18.59l7.72-7.72 1.47 1.35L5.41 20z\"/>\n",
              "  </svg>\n",
              "      </button>\n",
              "      \n",
              "  <style>\n",
              "    .colab-df-container {\n",
              "      display:flex;\n",
              "      flex-wrap:wrap;\n",
              "      gap: 12px;\n",
              "    }\n",
              "\n",
              "    .colab-df-convert {\n",
              "      background-color: #E8F0FE;\n",
              "      border: none;\n",
              "      border-radius: 50%;\n",
              "      cursor: pointer;\n",
              "      display: none;\n",
              "      fill: #1967D2;\n",
              "      height: 32px;\n",
              "      padding: 0 0 0 0;\n",
              "      width: 32px;\n",
              "    }\n",
              "\n",
              "    .colab-df-convert:hover {\n",
              "      background-color: #E2EBFA;\n",
              "      box-shadow: 0px 1px 2px rgba(60, 64, 67, 0.3), 0px 1px 3px 1px rgba(60, 64, 67, 0.15);\n",
              "      fill: #174EA6;\n",
              "    }\n",
              "\n",
              "    [theme=dark] .colab-df-convert {\n",
              "      background-color: #3B4455;\n",
              "      fill: #D2E3FC;\n",
              "    }\n",
              "\n",
              "    [theme=dark] .colab-df-convert:hover {\n",
              "      background-color: #434B5C;\n",
              "      box-shadow: 0px 1px 3px 1px rgba(0, 0, 0, 0.15);\n",
              "      filter: drop-shadow(0px 1px 2px rgba(0, 0, 0, 0.3));\n",
              "      fill: #FFFFFF;\n",
              "    }\n",
              "  </style>\n",
              "\n",
              "      <script>\n",
              "        const buttonEl =\n",
              "          document.querySelector('#df-6465c7de-6940-4b37-8d89-c01ae7a7432f button.colab-df-convert');\n",
              "        buttonEl.style.display =\n",
              "          google.colab.kernel.accessAllowed ? 'block' : 'none';\n",
              "\n",
              "        async function convertToInteractive(key) {\n",
              "          const element = document.querySelector('#df-6465c7de-6940-4b37-8d89-c01ae7a7432f');\n",
              "          const dataTable =\n",
              "            await google.colab.kernel.invokeFunction('convertToInteractive',\n",
              "                                                     [key], {});\n",
              "          if (!dataTable) return;\n",
              "\n",
              "          const docLinkHtml = 'Like what you see? Visit the ' +\n",
              "            '<a target=\"_blank\" href=https://colab.research.google.com/notebooks/data_table.ipynb>data table notebook</a>'\n",
              "            + ' to learn more about interactive tables.';\n",
              "          element.innerHTML = '';\n",
              "          dataTable['output_type'] = 'display_data';\n",
              "          await google.colab.output.renderOutput(dataTable, element);\n",
              "          const docLink = document.createElement('div');\n",
              "          docLink.innerHTML = docLinkHtml;\n",
              "          element.appendChild(docLink);\n",
              "        }\n",
              "      </script>\n",
              "    </div>\n",
              "  </div>\n",
              "  "
            ]
          },
          "metadata": {},
          "execution_count": 4
        }
      ]
    },
    {
      "cell_type": "markdown",
      "source": [
        "### Check for columns with null values."
      ],
      "metadata": {
        "id": "ezpQbEsKEv6Q"
      }
    },
    {
      "cell_type": "code",
      "source": [
        "df.isna().sum()"
      ],
      "metadata": {
        "id": "WmsQkRUGzDzX",
        "colab": {
          "base_uri": "https://localhost:8080/"
        },
        "outputId": "c9407a42-d2a6-43e8-874f-25fadf1cc6f8"
      },
      "execution_count": null,
      "outputs": [
        {
          "output_type": "execute_result",
          "data": {
            "text/plain": [
              "title                   0\n",
              "adult                   0\n",
              "budget                  0\n",
              "genres                  0\n",
              "original_language       0\n",
              "original_title          0\n",
              "overview                2\n",
              "popularity              0\n",
              "production_companies    0\n",
              "production_countries    0\n",
              "release_date            0\n",
              "revenue                 0\n",
              "runtime                 0\n",
              "status                  0\n",
              "vote_average            0\n",
              "vote_count              0\n",
              "dtype: int64"
            ]
          },
          "metadata": {},
          "execution_count": 5
        }
      ]
    },
    {
      "cell_type": "markdown",
      "source": [
        "### List the two rows that have null values."
      ],
      "metadata": {
        "id": "0n4XxQtLI9d4"
      }
    },
    {
      "cell_type": "code",
      "source": [
        "df[df[\"overview\"].isna()]"
      ],
      "metadata": {
        "id": "MazDUdahzEG0",
        "colab": {
          "base_uri": "https://localhost:8080/",
          "height": 245
        },
        "outputId": "7b201bf3-e457-4b9a-a578-f99a856064db"
      },
      "execution_count": null,
      "outputs": [
        {
          "output_type": "execute_result",
          "data": {
            "text/plain": [
              "                        title  adult  budget                          genres  \\\n",
              "9158  Amore, bugie e calcetto  False       0                              []   \n",
              "9908                Incognito  False       0  [{'id': 35, 'name': 'Comedy'}]   \n",
              "\n",
              "     original_language           original_title overview  popularity  \\\n",
              "9158                en  Amore, bugie e calcetto      NaN       5.434   \n",
              "9908                fr                Incognito      NaN       5.668   \n",
              "\n",
              "                                   production_companies  \\\n",
              "9158                                                 []   \n",
              "9908  [{'id': 4696, 'logo_path': None, 'name': 'Same...   \n",
              "\n",
              "                          production_countries release_date  revenue  runtime  \\\n",
              "9158   [{'iso_3166_1': 'IT', 'name': 'Italy'}]   2008-04-04        0      115   \n",
              "9908  [{'iso_3166_1': 'FR', 'name': 'France'}]   2009-04-28        0       94   \n",
              "\n",
              "        status  vote_average  vote_count  \n",
              "9158  Released           5.8         203  \n",
              "9908  Released           5.5         218  "
            ],
            "text/html": [
              "\n",
              "  <div id=\"df-49e934cc-3a59-469a-94e7-09e05d713581\">\n",
              "    <div class=\"colab-df-container\">\n",
              "      <div>\n",
              "<style scoped>\n",
              "    .dataframe tbody tr th:only-of-type {\n",
              "        vertical-align: middle;\n",
              "    }\n",
              "\n",
              "    .dataframe tbody tr th {\n",
              "        vertical-align: top;\n",
              "    }\n",
              "\n",
              "    .dataframe thead th {\n",
              "        text-align: right;\n",
              "    }\n",
              "</style>\n",
              "<table border=\"1\" class=\"dataframe\">\n",
              "  <thead>\n",
              "    <tr style=\"text-align: right;\">\n",
              "      <th></th>\n",
              "      <th>title</th>\n",
              "      <th>adult</th>\n",
              "      <th>budget</th>\n",
              "      <th>genres</th>\n",
              "      <th>original_language</th>\n",
              "      <th>original_title</th>\n",
              "      <th>overview</th>\n",
              "      <th>popularity</th>\n",
              "      <th>production_companies</th>\n",
              "      <th>production_countries</th>\n",
              "      <th>release_date</th>\n",
              "      <th>revenue</th>\n",
              "      <th>runtime</th>\n",
              "      <th>status</th>\n",
              "      <th>vote_average</th>\n",
              "      <th>vote_count</th>\n",
              "    </tr>\n",
              "  </thead>\n",
              "  <tbody>\n",
              "    <tr>\n",
              "      <th>9158</th>\n",
              "      <td>Amore, bugie e calcetto</td>\n",
              "      <td>False</td>\n",
              "      <td>0</td>\n",
              "      <td>[]</td>\n",
              "      <td>en</td>\n",
              "      <td>Amore, bugie e calcetto</td>\n",
              "      <td>NaN</td>\n",
              "      <td>5.434</td>\n",
              "      <td>[]</td>\n",
              "      <td>[{'iso_3166_1': 'IT', 'name': 'Italy'}]</td>\n",
              "      <td>2008-04-04</td>\n",
              "      <td>0</td>\n",
              "      <td>115</td>\n",
              "      <td>Released</td>\n",
              "      <td>5.8</td>\n",
              "      <td>203</td>\n",
              "    </tr>\n",
              "    <tr>\n",
              "      <th>9908</th>\n",
              "      <td>Incognito</td>\n",
              "      <td>False</td>\n",
              "      <td>0</td>\n",
              "      <td>[{'id': 35, 'name': 'Comedy'}]</td>\n",
              "      <td>fr</td>\n",
              "      <td>Incognito</td>\n",
              "      <td>NaN</td>\n",
              "      <td>5.668</td>\n",
              "      <td>[{'id': 4696, 'logo_path': None, 'name': 'Same...</td>\n",
              "      <td>[{'iso_3166_1': 'FR', 'name': 'France'}]</td>\n",
              "      <td>2009-04-28</td>\n",
              "      <td>0</td>\n",
              "      <td>94</td>\n",
              "      <td>Released</td>\n",
              "      <td>5.5</td>\n",
              "      <td>218</td>\n",
              "    </tr>\n",
              "  </tbody>\n",
              "</table>\n",
              "</div>\n",
              "      <button class=\"colab-df-convert\" onclick=\"convertToInteractive('df-49e934cc-3a59-469a-94e7-09e05d713581')\"\n",
              "              title=\"Convert this dataframe to an interactive table.\"\n",
              "              style=\"display:none;\">\n",
              "        \n",
              "  <svg xmlns=\"http://www.w3.org/2000/svg\" height=\"24px\"viewBox=\"0 0 24 24\"\n",
              "       width=\"24px\">\n",
              "    <path d=\"M0 0h24v24H0V0z\" fill=\"none\"/>\n",
              "    <path d=\"M18.56 5.44l.94 2.06.94-2.06 2.06-.94-2.06-.94-.94-2.06-.94 2.06-2.06.94zm-11 1L8.5 8.5l.94-2.06 2.06-.94-2.06-.94L8.5 2.5l-.94 2.06-2.06.94zm10 10l.94 2.06.94-2.06 2.06-.94-2.06-.94-.94-2.06-.94 2.06-2.06.94z\"/><path d=\"M17.41 7.96l-1.37-1.37c-.4-.4-.92-.59-1.43-.59-.52 0-1.04.2-1.43.59L10.3 9.45l-7.72 7.72c-.78.78-.78 2.05 0 2.83L4 21.41c.39.39.9.59 1.41.59.51 0 1.02-.2 1.41-.59l7.78-7.78 2.81-2.81c.8-.78.8-2.07 0-2.86zM5.41 20L4 18.59l7.72-7.72 1.47 1.35L5.41 20z\"/>\n",
              "  </svg>\n",
              "      </button>\n",
              "      \n",
              "  <style>\n",
              "    .colab-df-container {\n",
              "      display:flex;\n",
              "      flex-wrap:wrap;\n",
              "      gap: 12px;\n",
              "    }\n",
              "\n",
              "    .colab-df-convert {\n",
              "      background-color: #E8F0FE;\n",
              "      border: none;\n",
              "      border-radius: 50%;\n",
              "      cursor: pointer;\n",
              "      display: none;\n",
              "      fill: #1967D2;\n",
              "      height: 32px;\n",
              "      padding: 0 0 0 0;\n",
              "      width: 32px;\n",
              "    }\n",
              "\n",
              "    .colab-df-convert:hover {\n",
              "      background-color: #E2EBFA;\n",
              "      box-shadow: 0px 1px 2px rgba(60, 64, 67, 0.3), 0px 1px 3px 1px rgba(60, 64, 67, 0.15);\n",
              "      fill: #174EA6;\n",
              "    }\n",
              "\n",
              "    [theme=dark] .colab-df-convert {\n",
              "      background-color: #3B4455;\n",
              "      fill: #D2E3FC;\n",
              "    }\n",
              "\n",
              "    [theme=dark] .colab-df-convert:hover {\n",
              "      background-color: #434B5C;\n",
              "      box-shadow: 0px 1px 3px 1px rgba(0, 0, 0, 0.15);\n",
              "      filter: drop-shadow(0px 1px 2px rgba(0, 0, 0, 0.3));\n",
              "      fill: #FFFFFF;\n",
              "    }\n",
              "  </style>\n",
              "\n",
              "      <script>\n",
              "        const buttonEl =\n",
              "          document.querySelector('#df-49e934cc-3a59-469a-94e7-09e05d713581 button.colab-df-convert');\n",
              "        buttonEl.style.display =\n",
              "          google.colab.kernel.accessAllowed ? 'block' : 'none';\n",
              "\n",
              "        async function convertToInteractive(key) {\n",
              "          const element = document.querySelector('#df-49e934cc-3a59-469a-94e7-09e05d713581');\n",
              "          const dataTable =\n",
              "            await google.colab.kernel.invokeFunction('convertToInteractive',\n",
              "                                                     [key], {});\n",
              "          if (!dataTable) return;\n",
              "\n",
              "          const docLinkHtml = 'Like what you see? Visit the ' +\n",
              "            '<a target=\"_blank\" href=https://colab.research.google.com/notebooks/data_table.ipynb>data table notebook</a>'\n",
              "            + ' to learn more about interactive tables.';\n",
              "          element.innerHTML = '';\n",
              "          dataTable['output_type'] = 'display_data';\n",
              "          await google.colab.output.renderOutput(dataTable, element);\n",
              "          const docLink = document.createElement('div');\n",
              "          docLink.innerHTML = docLinkHtml;\n",
              "          element.appendChild(docLink);\n",
              "        }\n",
              "      </script>\n",
              "    </div>\n",
              "  </div>\n",
              "  "
            ]
          },
          "metadata": {},
          "execution_count": 6
        }
      ]
    },
    {
      "cell_type": "markdown",
      "source": [
        "### Delete rows with null values."
      ],
      "metadata": {
        "id": "ypOnD8gpJAfZ"
      }
    },
    {
      "cell_type": "code",
      "source": [
        "df = df[df[\"overview\"].notna()]\n",
        "df.shape"
      ],
      "metadata": {
        "id": "tAvmSQrizEZI",
        "colab": {
          "base_uri": "https://localhost:8080/"
        },
        "outputId": "5560d98d-0731-4b2f-c6b7-14e40f680465"
      },
      "execution_count": null,
      "outputs": [
        {
          "output_type": "execute_result",
          "data": {
            "text/plain": [
              "(9978, 16)"
            ]
          },
          "metadata": {},
          "execution_count": 7
        }
      ]
    },
    {
      "cell_type": "markdown",
      "source": [
        "### Check the type of each field."
      ],
      "metadata": {
        "id": "LudU5TnVJSz9"
      }
    },
    {
      "cell_type": "code",
      "source": [
        "df.dtypes"
      ],
      "metadata": {
        "id": "bQybN3vwzObA",
        "colab": {
          "base_uri": "https://localhost:8080/"
        },
        "outputId": "0a68b2e5-8ab0-4702-c8e6-d3788798a673"
      },
      "execution_count": null,
      "outputs": [
        {
          "output_type": "execute_result",
          "data": {
            "text/plain": [
              "title                    object\n",
              "adult                      bool\n",
              "budget                    int64\n",
              "genres                   object\n",
              "original_language        object\n",
              "original_title           object\n",
              "overview                 object\n",
              "popularity              float64\n",
              "production_companies     object\n",
              "production_countries     object\n",
              "release_date             object\n",
              "revenue                   int64\n",
              "runtime                   int64\n",
              "status                   object\n",
              "vote_average            float64\n",
              "vote_count                int64\n",
              "dtype: object"
            ]
          },
          "metadata": {},
          "execution_count": 8
        }
      ]
    },
    {
      "cell_type": "markdown",
      "source": [
        "### Briefly describe the range in which the data for each numeric field is located:\n",
        "\n",
        "*   25% of the movies have an average voting rating of less than 6.2.\n",
        "\n",
        "*   50% of the movies have an average voting rating of less than 6.7.\n",
        "\n",
        "*   75% of the movies have an average voting rating of less than 7.22.\n",
        "*   25% of the movies have a runtime of less than 93.\n",
        "\n",
        "\n",
        "*   50% of the movies have a runtime of less than 104.\n",
        "\n",
        "\n",
        "*   75% of the movies have a runtime of less than 116.75.\n",
        "\n"
      ],
      "metadata": {
        "id": "CkVz2nN7JoMo"
      }
    },
    {
      "cell_type": "code",
      "source": [
        "df.describe()"
      ],
      "metadata": {
        "id": "DWhnAyEvzQb5",
        "colab": {
          "base_uri": "https://localhost:8080/",
          "height": 300
        },
        "outputId": "97e81df4-468a-4986-83dd-3a5ecb17f3be"
      },
      "execution_count": null,
      "outputs": [
        {
          "output_type": "execute_result",
          "data": {
            "text/plain": [
              "             budget   popularity       revenue      runtime  vote_average  \\\n",
              "count  9.978000e+03  9978.000000  9.978000e+03  9978.000000   9978.000000   \n",
              "mean   2.014571e+07    24.869189  6.141205e+07   105.472740      6.731319   \n",
              "std    3.707013e+07    61.575691  1.535297e+08    23.609331      0.667860   \n",
              "min    0.000000e+00     0.600000  0.000000e+00     0.000000      5.479000   \n",
              "25%    0.000000e+00    10.808250  0.000000e+00    93.000000      6.200000   \n",
              "50%    4.225000e+06    14.781000  7.158988e+06   104.000000      6.700000   \n",
              "75%    2.500000e+07    23.622750  5.111921e+07   116.750000      7.220750   \n",
              "max    4.600000e+08  3813.468000  2.920357e+09   432.000000      8.712000   \n",
              "\n",
              "         vote_count  \n",
              "count   9978.000000  \n",
              "mean    1632.817599  \n",
              "std     2802.573680  \n",
              "min      200.000000  \n",
              "25%      321.000000  \n",
              "50%      608.000000  \n",
              "75%     1546.000000  \n",
              "max    33390.000000  "
            ],
            "text/html": [
              "\n",
              "  <div id=\"df-860dbe9c-b982-4910-b341-562a6629aa48\">\n",
              "    <div class=\"colab-df-container\">\n",
              "      <div>\n",
              "<style scoped>\n",
              "    .dataframe tbody tr th:only-of-type {\n",
              "        vertical-align: middle;\n",
              "    }\n",
              "\n",
              "    .dataframe tbody tr th {\n",
              "        vertical-align: top;\n",
              "    }\n",
              "\n",
              "    .dataframe thead th {\n",
              "        text-align: right;\n",
              "    }\n",
              "</style>\n",
              "<table border=\"1\" class=\"dataframe\">\n",
              "  <thead>\n",
              "    <tr style=\"text-align: right;\">\n",
              "      <th></th>\n",
              "      <th>budget</th>\n",
              "      <th>popularity</th>\n",
              "      <th>revenue</th>\n",
              "      <th>runtime</th>\n",
              "      <th>vote_average</th>\n",
              "      <th>vote_count</th>\n",
              "    </tr>\n",
              "  </thead>\n",
              "  <tbody>\n",
              "    <tr>\n",
              "      <th>count</th>\n",
              "      <td>9.978000e+03</td>\n",
              "      <td>9978.000000</td>\n",
              "      <td>9.978000e+03</td>\n",
              "      <td>9978.000000</td>\n",
              "      <td>9978.000000</td>\n",
              "      <td>9978.000000</td>\n",
              "    </tr>\n",
              "    <tr>\n",
              "      <th>mean</th>\n",
              "      <td>2.014571e+07</td>\n",
              "      <td>24.869189</td>\n",
              "      <td>6.141205e+07</td>\n",
              "      <td>105.472740</td>\n",
              "      <td>6.731319</td>\n",
              "      <td>1632.817599</td>\n",
              "    </tr>\n",
              "    <tr>\n",
              "      <th>std</th>\n",
              "      <td>3.707013e+07</td>\n",
              "      <td>61.575691</td>\n",
              "      <td>1.535297e+08</td>\n",
              "      <td>23.609331</td>\n",
              "      <td>0.667860</td>\n",
              "      <td>2802.573680</td>\n",
              "    </tr>\n",
              "    <tr>\n",
              "      <th>min</th>\n",
              "      <td>0.000000e+00</td>\n",
              "      <td>0.600000</td>\n",
              "      <td>0.000000e+00</td>\n",
              "      <td>0.000000</td>\n",
              "      <td>5.479000</td>\n",
              "      <td>200.000000</td>\n",
              "    </tr>\n",
              "    <tr>\n",
              "      <th>25%</th>\n",
              "      <td>0.000000e+00</td>\n",
              "      <td>10.808250</td>\n",
              "      <td>0.000000e+00</td>\n",
              "      <td>93.000000</td>\n",
              "      <td>6.200000</td>\n",
              "      <td>321.000000</td>\n",
              "    </tr>\n",
              "    <tr>\n",
              "      <th>50%</th>\n",
              "      <td>4.225000e+06</td>\n",
              "      <td>14.781000</td>\n",
              "      <td>7.158988e+06</td>\n",
              "      <td>104.000000</td>\n",
              "      <td>6.700000</td>\n",
              "      <td>608.000000</td>\n",
              "    </tr>\n",
              "    <tr>\n",
              "      <th>75%</th>\n",
              "      <td>2.500000e+07</td>\n",
              "      <td>23.622750</td>\n",
              "      <td>5.111921e+07</td>\n",
              "      <td>116.750000</td>\n",
              "      <td>7.220750</td>\n",
              "      <td>1546.000000</td>\n",
              "    </tr>\n",
              "    <tr>\n",
              "      <th>max</th>\n",
              "      <td>4.600000e+08</td>\n",
              "      <td>3813.468000</td>\n",
              "      <td>2.920357e+09</td>\n",
              "      <td>432.000000</td>\n",
              "      <td>8.712000</td>\n",
              "      <td>33390.000000</td>\n",
              "    </tr>\n",
              "  </tbody>\n",
              "</table>\n",
              "</div>\n",
              "      <button class=\"colab-df-convert\" onclick=\"convertToInteractive('df-860dbe9c-b982-4910-b341-562a6629aa48')\"\n",
              "              title=\"Convert this dataframe to an interactive table.\"\n",
              "              style=\"display:none;\">\n",
              "        \n",
              "  <svg xmlns=\"http://www.w3.org/2000/svg\" height=\"24px\"viewBox=\"0 0 24 24\"\n",
              "       width=\"24px\">\n",
              "    <path d=\"M0 0h24v24H0V0z\" fill=\"none\"/>\n",
              "    <path d=\"M18.56 5.44l.94 2.06.94-2.06 2.06-.94-2.06-.94-.94-2.06-.94 2.06-2.06.94zm-11 1L8.5 8.5l.94-2.06 2.06-.94-2.06-.94L8.5 2.5l-.94 2.06-2.06.94zm10 10l.94 2.06.94-2.06 2.06-.94-2.06-.94-.94-2.06-.94 2.06-2.06.94z\"/><path d=\"M17.41 7.96l-1.37-1.37c-.4-.4-.92-.59-1.43-.59-.52 0-1.04.2-1.43.59L10.3 9.45l-7.72 7.72c-.78.78-.78 2.05 0 2.83L4 21.41c.39.39.9.59 1.41.59.51 0 1.02-.2 1.41-.59l7.78-7.78 2.81-2.81c.8-.78.8-2.07 0-2.86zM5.41 20L4 18.59l7.72-7.72 1.47 1.35L5.41 20z\"/>\n",
              "  </svg>\n",
              "      </button>\n",
              "      \n",
              "  <style>\n",
              "    .colab-df-container {\n",
              "      display:flex;\n",
              "      flex-wrap:wrap;\n",
              "      gap: 12px;\n",
              "    }\n",
              "\n",
              "    .colab-df-convert {\n",
              "      background-color: #E8F0FE;\n",
              "      border: none;\n",
              "      border-radius: 50%;\n",
              "      cursor: pointer;\n",
              "      display: none;\n",
              "      fill: #1967D2;\n",
              "      height: 32px;\n",
              "      padding: 0 0 0 0;\n",
              "      width: 32px;\n",
              "    }\n",
              "\n",
              "    .colab-df-convert:hover {\n",
              "      background-color: #E2EBFA;\n",
              "      box-shadow: 0px 1px 2px rgba(60, 64, 67, 0.3), 0px 1px 3px 1px rgba(60, 64, 67, 0.15);\n",
              "      fill: #174EA6;\n",
              "    }\n",
              "\n",
              "    [theme=dark] .colab-df-convert {\n",
              "      background-color: #3B4455;\n",
              "      fill: #D2E3FC;\n",
              "    }\n",
              "\n",
              "    [theme=dark] .colab-df-convert:hover {\n",
              "      background-color: #434B5C;\n",
              "      box-shadow: 0px 1px 3px 1px rgba(0, 0, 0, 0.15);\n",
              "      filter: drop-shadow(0px 1px 2px rgba(0, 0, 0, 0.3));\n",
              "      fill: #FFFFFF;\n",
              "    }\n",
              "  </style>\n",
              "\n",
              "      <script>\n",
              "        const buttonEl =\n",
              "          document.querySelector('#df-860dbe9c-b982-4910-b341-562a6629aa48 button.colab-df-convert');\n",
              "        buttonEl.style.display =\n",
              "          google.colab.kernel.accessAllowed ? 'block' : 'none';\n",
              "\n",
              "        async function convertToInteractive(key) {\n",
              "          const element = document.querySelector('#df-860dbe9c-b982-4910-b341-562a6629aa48');\n",
              "          const dataTable =\n",
              "            await google.colab.kernel.invokeFunction('convertToInteractive',\n",
              "                                                     [key], {});\n",
              "          if (!dataTable) return;\n",
              "\n",
              "          const docLinkHtml = 'Like what you see? Visit the ' +\n",
              "            '<a target=\"_blank\" href=https://colab.research.google.com/notebooks/data_table.ipynb>data table notebook</a>'\n",
              "            + ' to learn more about interactive tables.';\n",
              "          element.innerHTML = '';\n",
              "          dataTable['output_type'] = 'display_data';\n",
              "          await google.colab.output.renderOutput(dataTable, element);\n",
              "          const docLink = document.createElement('div');\n",
              "          docLink.innerHTML = docLinkHtml;\n",
              "          element.appendChild(docLink);\n",
              "        }\n",
              "      </script>\n",
              "    </div>\n",
              "  </div>\n",
              "  "
            ]
          },
          "metadata": {},
          "execution_count": 9
        }
      ]
    },
    {
      "cell_type": "markdown",
      "source": [
        "### Movies with a running time of 0."
      ],
      "metadata": {
        "id": "WWbOG3LEMSlt"
      }
    },
    {
      "cell_type": "code",
      "source": [
        "df[df[\"runtime\"]==0][[\"title\",\"budget\",\"revenue\"]]"
      ],
      "metadata": {
        "id": "yx3R4mIszQvc",
        "colab": {
          "base_uri": "https://localhost:8080/",
          "height": 112
        },
        "outputId": "61a1f18b-84d3-460f-cac9-ead6fda62a01"
      },
      "execution_count": null,
      "outputs": [
        {
          "output_type": "execute_result",
          "data": {
            "text/plain": [
              "                 title  budget  revenue\n",
              "6369  Amiche da morire       0        0\n",
              "9254    The Full House       0        0"
            ],
            "text/html": [
              "\n",
              "  <div id=\"df-0a086017-71f1-4863-89bf-ef271ad93563\">\n",
              "    <div class=\"colab-df-container\">\n",
              "      <div>\n",
              "<style scoped>\n",
              "    .dataframe tbody tr th:only-of-type {\n",
              "        vertical-align: middle;\n",
              "    }\n",
              "\n",
              "    .dataframe tbody tr th {\n",
              "        vertical-align: top;\n",
              "    }\n",
              "\n",
              "    .dataframe thead th {\n",
              "        text-align: right;\n",
              "    }\n",
              "</style>\n",
              "<table border=\"1\" class=\"dataframe\">\n",
              "  <thead>\n",
              "    <tr style=\"text-align: right;\">\n",
              "      <th></th>\n",
              "      <th>title</th>\n",
              "      <th>budget</th>\n",
              "      <th>revenue</th>\n",
              "    </tr>\n",
              "  </thead>\n",
              "  <tbody>\n",
              "    <tr>\n",
              "      <th>6369</th>\n",
              "      <td>Amiche da morire</td>\n",
              "      <td>0</td>\n",
              "      <td>0</td>\n",
              "    </tr>\n",
              "    <tr>\n",
              "      <th>9254</th>\n",
              "      <td>The Full House</td>\n",
              "      <td>0</td>\n",
              "      <td>0</td>\n",
              "    </tr>\n",
              "  </tbody>\n",
              "</table>\n",
              "</div>\n",
              "      <button class=\"colab-df-convert\" onclick=\"convertToInteractive('df-0a086017-71f1-4863-89bf-ef271ad93563')\"\n",
              "              title=\"Convert this dataframe to an interactive table.\"\n",
              "              style=\"display:none;\">\n",
              "        \n",
              "  <svg xmlns=\"http://www.w3.org/2000/svg\" height=\"24px\"viewBox=\"0 0 24 24\"\n",
              "       width=\"24px\">\n",
              "    <path d=\"M0 0h24v24H0V0z\" fill=\"none\"/>\n",
              "    <path d=\"M18.56 5.44l.94 2.06.94-2.06 2.06-.94-2.06-.94-.94-2.06-.94 2.06-2.06.94zm-11 1L8.5 8.5l.94-2.06 2.06-.94-2.06-.94L8.5 2.5l-.94 2.06-2.06.94zm10 10l.94 2.06.94-2.06 2.06-.94-2.06-.94-.94-2.06-.94 2.06-2.06.94z\"/><path d=\"M17.41 7.96l-1.37-1.37c-.4-.4-.92-.59-1.43-.59-.52 0-1.04.2-1.43.59L10.3 9.45l-7.72 7.72c-.78.78-.78 2.05 0 2.83L4 21.41c.39.39.9.59 1.41.59.51 0 1.02-.2 1.41-.59l7.78-7.78 2.81-2.81c.8-.78.8-2.07 0-2.86zM5.41 20L4 18.59l7.72-7.72 1.47 1.35L5.41 20z\"/>\n",
              "  </svg>\n",
              "      </button>\n",
              "      \n",
              "  <style>\n",
              "    .colab-df-container {\n",
              "      display:flex;\n",
              "      flex-wrap:wrap;\n",
              "      gap: 12px;\n",
              "    }\n",
              "\n",
              "    .colab-df-convert {\n",
              "      background-color: #E8F0FE;\n",
              "      border: none;\n",
              "      border-radius: 50%;\n",
              "      cursor: pointer;\n",
              "      display: none;\n",
              "      fill: #1967D2;\n",
              "      height: 32px;\n",
              "      padding: 0 0 0 0;\n",
              "      width: 32px;\n",
              "    }\n",
              "\n",
              "    .colab-df-convert:hover {\n",
              "      background-color: #E2EBFA;\n",
              "      box-shadow: 0px 1px 2px rgba(60, 64, 67, 0.3), 0px 1px 3px 1px rgba(60, 64, 67, 0.15);\n",
              "      fill: #174EA6;\n",
              "    }\n",
              "\n",
              "    [theme=dark] .colab-df-convert {\n",
              "      background-color: #3B4455;\n",
              "      fill: #D2E3FC;\n",
              "    }\n",
              "\n",
              "    [theme=dark] .colab-df-convert:hover {\n",
              "      background-color: #434B5C;\n",
              "      box-shadow: 0px 1px 3px 1px rgba(0, 0, 0, 0.15);\n",
              "      filter: drop-shadow(0px 1px 2px rgba(0, 0, 0, 0.3));\n",
              "      fill: #FFFFFF;\n",
              "    }\n",
              "  </style>\n",
              "\n",
              "      <script>\n",
              "        const buttonEl =\n",
              "          document.querySelector('#df-0a086017-71f1-4863-89bf-ef271ad93563 button.colab-df-convert');\n",
              "        buttonEl.style.display =\n",
              "          google.colab.kernel.accessAllowed ? 'block' : 'none';\n",
              "\n",
              "        async function convertToInteractive(key) {\n",
              "          const element = document.querySelector('#df-0a086017-71f1-4863-89bf-ef271ad93563');\n",
              "          const dataTable =\n",
              "            await google.colab.kernel.invokeFunction('convertToInteractive',\n",
              "                                                     [key], {});\n",
              "          if (!dataTable) return;\n",
              "\n",
              "          const docLinkHtml = 'Like what you see? Visit the ' +\n",
              "            '<a target=\"_blank\" href=https://colab.research.google.com/notebooks/data_table.ipynb>data table notebook</a>'\n",
              "            + ' to learn more about interactive tables.';\n",
              "          element.innerHTML = '';\n",
              "          dataTable['output_type'] = 'display_data';\n",
              "          await google.colab.output.renderOutput(dataTable, element);\n",
              "          const docLink = document.createElement('div');\n",
              "          docLink.innerHTML = docLinkHtml;\n",
              "          element.appendChild(docLink);\n",
              "        }\n",
              "      </script>\n",
              "    </div>\n",
              "  </div>\n",
              "  "
            ]
          },
          "metadata": {},
          "execution_count": 10
        }
      ]
    },
    {
      "cell_type": "markdown",
      "source": [
        "### Movies with a budget of 0."
      ],
      "metadata": {
        "id": "_jjBuvGXMn4_"
      }
    },
    {
      "cell_type": "code",
      "source": [
        "df[df[\"budget\"]==0][[\"title\",\"budget\",\"revenue\"]]"
      ],
      "metadata": {
        "id": "NW7G-x-vzRAr",
        "colab": {
          "base_uri": "https://localhost:8080/",
          "height": 423
        },
        "outputId": "3e321de8-d667-4a78-94a5-c924f0fce24a"
      },
      "execution_count": null,
      "outputs": [
        {
          "output_type": "execute_result",
          "data": {
            "text/plain": [
              "                                             title  budget    revenue\n",
              "2                                 Cuando Sea Joven       0          0\n",
              "8                                       Your Name.       0  357986087\n",
              "11        The Boy, the Mole, the Fox and the Horse       0          0\n",
              "14                        Dou kyu sei – Classmates       0          0\n",
              "18                       Primal: Tales of Savagery       0          0\n",
              "...                                            ...     ...        ...\n",
              "9972                              Extraterrestrial       0          0\n",
              "9974                                        Spread       0   12035862\n",
              "9975                                          Howl       0          0\n",
              "9978  Science Fiction Volume One: The Osiris Child       0          0\n",
              "9979                                     Premature       0          0\n",
              "\n",
              "[3812 rows x 3 columns]"
            ],
            "text/html": [
              "\n",
              "  <div id=\"df-33508abf-df8b-40b2-917d-15e5a0e8ec69\">\n",
              "    <div class=\"colab-df-container\">\n",
              "      <div>\n",
              "<style scoped>\n",
              "    .dataframe tbody tr th:only-of-type {\n",
              "        vertical-align: middle;\n",
              "    }\n",
              "\n",
              "    .dataframe tbody tr th {\n",
              "        vertical-align: top;\n",
              "    }\n",
              "\n",
              "    .dataframe thead th {\n",
              "        text-align: right;\n",
              "    }\n",
              "</style>\n",
              "<table border=\"1\" class=\"dataframe\">\n",
              "  <thead>\n",
              "    <tr style=\"text-align: right;\">\n",
              "      <th></th>\n",
              "      <th>title</th>\n",
              "      <th>budget</th>\n",
              "      <th>revenue</th>\n",
              "    </tr>\n",
              "  </thead>\n",
              "  <tbody>\n",
              "    <tr>\n",
              "      <th>2</th>\n",
              "      <td>Cuando Sea Joven</td>\n",
              "      <td>0</td>\n",
              "      <td>0</td>\n",
              "    </tr>\n",
              "    <tr>\n",
              "      <th>8</th>\n",
              "      <td>Your Name.</td>\n",
              "      <td>0</td>\n",
              "      <td>357986087</td>\n",
              "    </tr>\n",
              "    <tr>\n",
              "      <th>11</th>\n",
              "      <td>The Boy, the Mole, the Fox and the Horse</td>\n",
              "      <td>0</td>\n",
              "      <td>0</td>\n",
              "    </tr>\n",
              "    <tr>\n",
              "      <th>14</th>\n",
              "      <td>Dou kyu sei – Classmates</td>\n",
              "      <td>0</td>\n",
              "      <td>0</td>\n",
              "    </tr>\n",
              "    <tr>\n",
              "      <th>18</th>\n",
              "      <td>Primal: Tales of Savagery</td>\n",
              "      <td>0</td>\n",
              "      <td>0</td>\n",
              "    </tr>\n",
              "    <tr>\n",
              "      <th>...</th>\n",
              "      <td>...</td>\n",
              "      <td>...</td>\n",
              "      <td>...</td>\n",
              "    </tr>\n",
              "    <tr>\n",
              "      <th>9972</th>\n",
              "      <td>Extraterrestrial</td>\n",
              "      <td>0</td>\n",
              "      <td>0</td>\n",
              "    </tr>\n",
              "    <tr>\n",
              "      <th>9974</th>\n",
              "      <td>Spread</td>\n",
              "      <td>0</td>\n",
              "      <td>12035862</td>\n",
              "    </tr>\n",
              "    <tr>\n",
              "      <th>9975</th>\n",
              "      <td>Howl</td>\n",
              "      <td>0</td>\n",
              "      <td>0</td>\n",
              "    </tr>\n",
              "    <tr>\n",
              "      <th>9978</th>\n",
              "      <td>Science Fiction Volume One: The Osiris Child</td>\n",
              "      <td>0</td>\n",
              "      <td>0</td>\n",
              "    </tr>\n",
              "    <tr>\n",
              "      <th>9979</th>\n",
              "      <td>Premature</td>\n",
              "      <td>0</td>\n",
              "      <td>0</td>\n",
              "    </tr>\n",
              "  </tbody>\n",
              "</table>\n",
              "<p>3812 rows × 3 columns</p>\n",
              "</div>\n",
              "      <button class=\"colab-df-convert\" onclick=\"convertToInteractive('df-33508abf-df8b-40b2-917d-15e5a0e8ec69')\"\n",
              "              title=\"Convert this dataframe to an interactive table.\"\n",
              "              style=\"display:none;\">\n",
              "        \n",
              "  <svg xmlns=\"http://www.w3.org/2000/svg\" height=\"24px\"viewBox=\"0 0 24 24\"\n",
              "       width=\"24px\">\n",
              "    <path d=\"M0 0h24v24H0V0z\" fill=\"none\"/>\n",
              "    <path d=\"M18.56 5.44l.94 2.06.94-2.06 2.06-.94-2.06-.94-.94-2.06-.94 2.06-2.06.94zm-11 1L8.5 8.5l.94-2.06 2.06-.94-2.06-.94L8.5 2.5l-.94 2.06-2.06.94zm10 10l.94 2.06.94-2.06 2.06-.94-2.06-.94-.94-2.06-.94 2.06-2.06.94z\"/><path d=\"M17.41 7.96l-1.37-1.37c-.4-.4-.92-.59-1.43-.59-.52 0-1.04.2-1.43.59L10.3 9.45l-7.72 7.72c-.78.78-.78 2.05 0 2.83L4 21.41c.39.39.9.59 1.41.59.51 0 1.02-.2 1.41-.59l7.78-7.78 2.81-2.81c.8-.78.8-2.07 0-2.86zM5.41 20L4 18.59l7.72-7.72 1.47 1.35L5.41 20z\"/>\n",
              "  </svg>\n",
              "      </button>\n",
              "      \n",
              "  <style>\n",
              "    .colab-df-container {\n",
              "      display:flex;\n",
              "      flex-wrap:wrap;\n",
              "      gap: 12px;\n",
              "    }\n",
              "\n",
              "    .colab-df-convert {\n",
              "      background-color: #E8F0FE;\n",
              "      border: none;\n",
              "      border-radius: 50%;\n",
              "      cursor: pointer;\n",
              "      display: none;\n",
              "      fill: #1967D2;\n",
              "      height: 32px;\n",
              "      padding: 0 0 0 0;\n",
              "      width: 32px;\n",
              "    }\n",
              "\n",
              "    .colab-df-convert:hover {\n",
              "      background-color: #E2EBFA;\n",
              "      box-shadow: 0px 1px 2px rgba(60, 64, 67, 0.3), 0px 1px 3px 1px rgba(60, 64, 67, 0.15);\n",
              "      fill: #174EA6;\n",
              "    }\n",
              "\n",
              "    [theme=dark] .colab-df-convert {\n",
              "      background-color: #3B4455;\n",
              "      fill: #D2E3FC;\n",
              "    }\n",
              "\n",
              "    [theme=dark] .colab-df-convert:hover {\n",
              "      background-color: #434B5C;\n",
              "      box-shadow: 0px 1px 3px 1px rgba(0, 0, 0, 0.15);\n",
              "      filter: drop-shadow(0px 1px 2px rgba(0, 0, 0, 0.3));\n",
              "      fill: #FFFFFF;\n",
              "    }\n",
              "  </style>\n",
              "\n",
              "      <script>\n",
              "        const buttonEl =\n",
              "          document.querySelector('#df-33508abf-df8b-40b2-917d-15e5a0e8ec69 button.colab-df-convert');\n",
              "        buttonEl.style.display =\n",
              "          google.colab.kernel.accessAllowed ? 'block' : 'none';\n",
              "\n",
              "        async function convertToInteractive(key) {\n",
              "          const element = document.querySelector('#df-33508abf-df8b-40b2-917d-15e5a0e8ec69');\n",
              "          const dataTable =\n",
              "            await google.colab.kernel.invokeFunction('convertToInteractive',\n",
              "                                                     [key], {});\n",
              "          if (!dataTable) return;\n",
              "\n",
              "          const docLinkHtml = 'Like what you see? Visit the ' +\n",
              "            '<a target=\"_blank\" href=https://colab.research.google.com/notebooks/data_table.ipynb>data table notebook</a>'\n",
              "            + ' to learn more about interactive tables.';\n",
              "          element.innerHTML = '';\n",
              "          dataTable['output_type'] = 'display_data';\n",
              "          await google.colab.output.renderOutput(dataTable, element);\n",
              "          const docLink = document.createElement('div');\n",
              "          docLink.innerHTML = docLinkHtml;\n",
              "          element.appendChild(docLink);\n",
              "        }\n",
              "      </script>\n",
              "    </div>\n",
              "  </div>\n",
              "  "
            ]
          },
          "metadata": {},
          "execution_count": 11
        }
      ]
    },
    {
      "cell_type": "markdown",
      "source": [
        "### Movies with a revenue of 0."
      ],
      "metadata": {
        "id": "OCmkefnUMtVX"
      }
    },
    {
      "cell_type": "code",
      "source": [
        "df[df[\"revenue\"]==0][[\"title\",\"budget\",\"revenue\"]]"
      ],
      "metadata": {
        "id": "ok3zut4BzbQi",
        "colab": {
          "base_uri": "https://localhost:8080/",
          "height": 423
        },
        "outputId": "4d74bcfc-6d53-4871-c072-2ce139fd9f5d"
      },
      "execution_count": null,
      "outputs": [
        {
          "output_type": "execute_result",
          "data": {
            "text/plain": [
              "                                             title  budget  revenue\n",
              "2                                 Cuando Sea Joven       0        0\n",
              "11        The Boy, the Mole, the Fox and the Horse       0        0\n",
              "14                        Dou kyu sei – Classmates       0        0\n",
              "18                       Primal: Tales of Savagery       0        0\n",
              "19                               Gabriel's Inferno       0        0\n",
              "...                                            ...     ...      ...\n",
              "9971                                    The Rezort       0        0\n",
              "9972                              Extraterrestrial       0        0\n",
              "9975                                          Howl       0        0\n",
              "9978  Science Fiction Volume One: The Osiris Child       0        0\n",
              "9979                                     Premature       0        0\n",
              "\n",
              "[3352 rows x 3 columns]"
            ],
            "text/html": [
              "\n",
              "  <div id=\"df-98501777-4404-4acb-9edc-1cd7fee53dbe\">\n",
              "    <div class=\"colab-df-container\">\n",
              "      <div>\n",
              "<style scoped>\n",
              "    .dataframe tbody tr th:only-of-type {\n",
              "        vertical-align: middle;\n",
              "    }\n",
              "\n",
              "    .dataframe tbody tr th {\n",
              "        vertical-align: top;\n",
              "    }\n",
              "\n",
              "    .dataframe thead th {\n",
              "        text-align: right;\n",
              "    }\n",
              "</style>\n",
              "<table border=\"1\" class=\"dataframe\">\n",
              "  <thead>\n",
              "    <tr style=\"text-align: right;\">\n",
              "      <th></th>\n",
              "      <th>title</th>\n",
              "      <th>budget</th>\n",
              "      <th>revenue</th>\n",
              "    </tr>\n",
              "  </thead>\n",
              "  <tbody>\n",
              "    <tr>\n",
              "      <th>2</th>\n",
              "      <td>Cuando Sea Joven</td>\n",
              "      <td>0</td>\n",
              "      <td>0</td>\n",
              "    </tr>\n",
              "    <tr>\n",
              "      <th>11</th>\n",
              "      <td>The Boy, the Mole, the Fox and the Horse</td>\n",
              "      <td>0</td>\n",
              "      <td>0</td>\n",
              "    </tr>\n",
              "    <tr>\n",
              "      <th>14</th>\n",
              "      <td>Dou kyu sei – Classmates</td>\n",
              "      <td>0</td>\n",
              "      <td>0</td>\n",
              "    </tr>\n",
              "    <tr>\n",
              "      <th>18</th>\n",
              "      <td>Primal: Tales of Savagery</td>\n",
              "      <td>0</td>\n",
              "      <td>0</td>\n",
              "    </tr>\n",
              "    <tr>\n",
              "      <th>19</th>\n",
              "      <td>Gabriel's Inferno</td>\n",
              "      <td>0</td>\n",
              "      <td>0</td>\n",
              "    </tr>\n",
              "    <tr>\n",
              "      <th>...</th>\n",
              "      <td>...</td>\n",
              "      <td>...</td>\n",
              "      <td>...</td>\n",
              "    </tr>\n",
              "    <tr>\n",
              "      <th>9971</th>\n",
              "      <td>The Rezort</td>\n",
              "      <td>0</td>\n",
              "      <td>0</td>\n",
              "    </tr>\n",
              "    <tr>\n",
              "      <th>9972</th>\n",
              "      <td>Extraterrestrial</td>\n",
              "      <td>0</td>\n",
              "      <td>0</td>\n",
              "    </tr>\n",
              "    <tr>\n",
              "      <th>9975</th>\n",
              "      <td>Howl</td>\n",
              "      <td>0</td>\n",
              "      <td>0</td>\n",
              "    </tr>\n",
              "    <tr>\n",
              "      <th>9978</th>\n",
              "      <td>Science Fiction Volume One: The Osiris Child</td>\n",
              "      <td>0</td>\n",
              "      <td>0</td>\n",
              "    </tr>\n",
              "    <tr>\n",
              "      <th>9979</th>\n",
              "      <td>Premature</td>\n",
              "      <td>0</td>\n",
              "      <td>0</td>\n",
              "    </tr>\n",
              "  </tbody>\n",
              "</table>\n",
              "<p>3352 rows × 3 columns</p>\n",
              "</div>\n",
              "      <button class=\"colab-df-convert\" onclick=\"convertToInteractive('df-98501777-4404-4acb-9edc-1cd7fee53dbe')\"\n",
              "              title=\"Convert this dataframe to an interactive table.\"\n",
              "              style=\"display:none;\">\n",
              "        \n",
              "  <svg xmlns=\"http://www.w3.org/2000/svg\" height=\"24px\"viewBox=\"0 0 24 24\"\n",
              "       width=\"24px\">\n",
              "    <path d=\"M0 0h24v24H0V0z\" fill=\"none\"/>\n",
              "    <path d=\"M18.56 5.44l.94 2.06.94-2.06 2.06-.94-2.06-.94-.94-2.06-.94 2.06-2.06.94zm-11 1L8.5 8.5l.94-2.06 2.06-.94-2.06-.94L8.5 2.5l-.94 2.06-2.06.94zm10 10l.94 2.06.94-2.06 2.06-.94-2.06-.94-.94-2.06-.94 2.06-2.06.94z\"/><path d=\"M17.41 7.96l-1.37-1.37c-.4-.4-.92-.59-1.43-.59-.52 0-1.04.2-1.43.59L10.3 9.45l-7.72 7.72c-.78.78-.78 2.05 0 2.83L4 21.41c.39.39.9.59 1.41.59.51 0 1.02-.2 1.41-.59l7.78-7.78 2.81-2.81c.8-.78.8-2.07 0-2.86zM5.41 20L4 18.59l7.72-7.72 1.47 1.35L5.41 20z\"/>\n",
              "  </svg>\n",
              "      </button>\n",
              "      \n",
              "  <style>\n",
              "    .colab-df-container {\n",
              "      display:flex;\n",
              "      flex-wrap:wrap;\n",
              "      gap: 12px;\n",
              "    }\n",
              "\n",
              "    .colab-df-convert {\n",
              "      background-color: #E8F0FE;\n",
              "      border: none;\n",
              "      border-radius: 50%;\n",
              "      cursor: pointer;\n",
              "      display: none;\n",
              "      fill: #1967D2;\n",
              "      height: 32px;\n",
              "      padding: 0 0 0 0;\n",
              "      width: 32px;\n",
              "    }\n",
              "\n",
              "    .colab-df-convert:hover {\n",
              "      background-color: #E2EBFA;\n",
              "      box-shadow: 0px 1px 2px rgba(60, 64, 67, 0.3), 0px 1px 3px 1px rgba(60, 64, 67, 0.15);\n",
              "      fill: #174EA6;\n",
              "    }\n",
              "\n",
              "    [theme=dark] .colab-df-convert {\n",
              "      background-color: #3B4455;\n",
              "      fill: #D2E3FC;\n",
              "    }\n",
              "\n",
              "    [theme=dark] .colab-df-convert:hover {\n",
              "      background-color: #434B5C;\n",
              "      box-shadow: 0px 1px 3px 1px rgba(0, 0, 0, 0.15);\n",
              "      filter: drop-shadow(0px 1px 2px rgba(0, 0, 0, 0.3));\n",
              "      fill: #FFFFFF;\n",
              "    }\n",
              "  </style>\n",
              "\n",
              "      <script>\n",
              "        const buttonEl =\n",
              "          document.querySelector('#df-98501777-4404-4acb-9edc-1cd7fee53dbe button.colab-df-convert');\n",
              "        buttonEl.style.display =\n",
              "          google.colab.kernel.accessAllowed ? 'block' : 'none';\n",
              "\n",
              "        async function convertToInteractive(key) {\n",
              "          const element = document.querySelector('#df-98501777-4404-4acb-9edc-1cd7fee53dbe');\n",
              "          const dataTable =\n",
              "            await google.colab.kernel.invokeFunction('convertToInteractive',\n",
              "                                                     [key], {});\n",
              "          if (!dataTable) return;\n",
              "\n",
              "          const docLinkHtml = 'Like what you see? Visit the ' +\n",
              "            '<a target=\"_blank\" href=https://colab.research.google.com/notebooks/data_table.ipynb>data table notebook</a>'\n",
              "            + ' to learn more about interactive tables.';\n",
              "          element.innerHTML = '';\n",
              "          dataTable['output_type'] = 'display_data';\n",
              "          await google.colab.output.renderOutput(dataTable, element);\n",
              "          const docLink = document.createElement('div');\n",
              "          docLink.innerHTML = docLinkHtml;\n",
              "          element.appendChild(docLink);\n",
              "        }\n",
              "      </script>\n",
              "    </div>\n",
              "  </div>\n",
              "  "
            ]
          },
          "metadata": {},
          "execution_count": 12
        }
      ]
    },
    {
      "cell_type": "markdown",
      "source": [
        "### Movies with zero revenue but a non-zero budget."
      ],
      "metadata": {
        "id": "smO1oCeyM4Bk"
      }
    },
    {
      "cell_type": "code",
      "source": [
        "df[df[\"revenue\"]==0][df['budget']!=0][[\"title\",\"budget\",\"revenue\"]]"
      ],
      "metadata": {
        "id": "6peWy5nMzcKU",
        "colab": {
          "base_uri": "https://localhost:8080/",
          "height": 459
        },
        "outputId": "5aae70a1-ee5d-4991-bc55-a1677a676362"
      },
      "execution_count": null,
      "outputs": [
        {
          "output_type": "stream",
          "name": "stderr",
          "text": [
            "<ipython-input-13-b49b0023e133>:1: UserWarning: Boolean Series key will be reindexed to match DataFrame index.\n",
            "  df[df[\"revenue\"]==0][df['budget']!=0][[\"title\",\"budget\",\"revenue\"]]\n"
          ]
        },
        {
          "output_type": "execute_result",
          "data": {
            "text/plain": [
              "                             title    budget  revenue\n",
              "26                          Psycho    806947        0\n",
              "58               20th Century Girl       119        0\n",
              "63                    High and Low    250000        0\n",
              "67                    Modern Times   1500000        0\n",
              "83                  Paths of Glory    935000        0\n",
              "...                            ...       ...      ...\n",
              "9926                Welcome Aboard  12000000        0\n",
              "9928  All the Boys Love Mandy Lane    750000        0\n",
              "9935               Made in America  22000000        0\n",
              "9944          Open Water 2: Adrift   1200000        0\n",
              "9960               Fear and Desire     53000        0\n",
              "\n",
              "[752 rows x 3 columns]"
            ],
            "text/html": [
              "\n",
              "  <div id=\"df-e7a72e59-ba83-478b-9f89-1acb04572b28\">\n",
              "    <div class=\"colab-df-container\">\n",
              "      <div>\n",
              "<style scoped>\n",
              "    .dataframe tbody tr th:only-of-type {\n",
              "        vertical-align: middle;\n",
              "    }\n",
              "\n",
              "    .dataframe tbody tr th {\n",
              "        vertical-align: top;\n",
              "    }\n",
              "\n",
              "    .dataframe thead th {\n",
              "        text-align: right;\n",
              "    }\n",
              "</style>\n",
              "<table border=\"1\" class=\"dataframe\">\n",
              "  <thead>\n",
              "    <tr style=\"text-align: right;\">\n",
              "      <th></th>\n",
              "      <th>title</th>\n",
              "      <th>budget</th>\n",
              "      <th>revenue</th>\n",
              "    </tr>\n",
              "  </thead>\n",
              "  <tbody>\n",
              "    <tr>\n",
              "      <th>26</th>\n",
              "      <td>Psycho</td>\n",
              "      <td>806947</td>\n",
              "      <td>0</td>\n",
              "    </tr>\n",
              "    <tr>\n",
              "      <th>58</th>\n",
              "      <td>20th Century Girl</td>\n",
              "      <td>119</td>\n",
              "      <td>0</td>\n",
              "    </tr>\n",
              "    <tr>\n",
              "      <th>63</th>\n",
              "      <td>High and Low</td>\n",
              "      <td>250000</td>\n",
              "      <td>0</td>\n",
              "    </tr>\n",
              "    <tr>\n",
              "      <th>67</th>\n",
              "      <td>Modern Times</td>\n",
              "      <td>1500000</td>\n",
              "      <td>0</td>\n",
              "    </tr>\n",
              "    <tr>\n",
              "      <th>83</th>\n",
              "      <td>Paths of Glory</td>\n",
              "      <td>935000</td>\n",
              "      <td>0</td>\n",
              "    </tr>\n",
              "    <tr>\n",
              "      <th>...</th>\n",
              "      <td>...</td>\n",
              "      <td>...</td>\n",
              "      <td>...</td>\n",
              "    </tr>\n",
              "    <tr>\n",
              "      <th>9926</th>\n",
              "      <td>Welcome Aboard</td>\n",
              "      <td>12000000</td>\n",
              "      <td>0</td>\n",
              "    </tr>\n",
              "    <tr>\n",
              "      <th>9928</th>\n",
              "      <td>All the Boys Love Mandy Lane</td>\n",
              "      <td>750000</td>\n",
              "      <td>0</td>\n",
              "    </tr>\n",
              "    <tr>\n",
              "      <th>9935</th>\n",
              "      <td>Made in America</td>\n",
              "      <td>22000000</td>\n",
              "      <td>0</td>\n",
              "    </tr>\n",
              "    <tr>\n",
              "      <th>9944</th>\n",
              "      <td>Open Water 2: Adrift</td>\n",
              "      <td>1200000</td>\n",
              "      <td>0</td>\n",
              "    </tr>\n",
              "    <tr>\n",
              "      <th>9960</th>\n",
              "      <td>Fear and Desire</td>\n",
              "      <td>53000</td>\n",
              "      <td>0</td>\n",
              "    </tr>\n",
              "  </tbody>\n",
              "</table>\n",
              "<p>752 rows × 3 columns</p>\n",
              "</div>\n",
              "      <button class=\"colab-df-convert\" onclick=\"convertToInteractive('df-e7a72e59-ba83-478b-9f89-1acb04572b28')\"\n",
              "              title=\"Convert this dataframe to an interactive table.\"\n",
              "              style=\"display:none;\">\n",
              "        \n",
              "  <svg xmlns=\"http://www.w3.org/2000/svg\" height=\"24px\"viewBox=\"0 0 24 24\"\n",
              "       width=\"24px\">\n",
              "    <path d=\"M0 0h24v24H0V0z\" fill=\"none\"/>\n",
              "    <path d=\"M18.56 5.44l.94 2.06.94-2.06 2.06-.94-2.06-.94-.94-2.06-.94 2.06-2.06.94zm-11 1L8.5 8.5l.94-2.06 2.06-.94-2.06-.94L8.5 2.5l-.94 2.06-2.06.94zm10 10l.94 2.06.94-2.06 2.06-.94-2.06-.94-.94-2.06-.94 2.06-2.06.94z\"/><path d=\"M17.41 7.96l-1.37-1.37c-.4-.4-.92-.59-1.43-.59-.52 0-1.04.2-1.43.59L10.3 9.45l-7.72 7.72c-.78.78-.78 2.05 0 2.83L4 21.41c.39.39.9.59 1.41.59.51 0 1.02-.2 1.41-.59l7.78-7.78 2.81-2.81c.8-.78.8-2.07 0-2.86zM5.41 20L4 18.59l7.72-7.72 1.47 1.35L5.41 20z\"/>\n",
              "  </svg>\n",
              "      </button>\n",
              "      \n",
              "  <style>\n",
              "    .colab-df-container {\n",
              "      display:flex;\n",
              "      flex-wrap:wrap;\n",
              "      gap: 12px;\n",
              "    }\n",
              "\n",
              "    .colab-df-convert {\n",
              "      background-color: #E8F0FE;\n",
              "      border: none;\n",
              "      border-radius: 50%;\n",
              "      cursor: pointer;\n",
              "      display: none;\n",
              "      fill: #1967D2;\n",
              "      height: 32px;\n",
              "      padding: 0 0 0 0;\n",
              "      width: 32px;\n",
              "    }\n",
              "\n",
              "    .colab-df-convert:hover {\n",
              "      background-color: #E2EBFA;\n",
              "      box-shadow: 0px 1px 2px rgba(60, 64, 67, 0.3), 0px 1px 3px 1px rgba(60, 64, 67, 0.15);\n",
              "      fill: #174EA6;\n",
              "    }\n",
              "\n",
              "    [theme=dark] .colab-df-convert {\n",
              "      background-color: #3B4455;\n",
              "      fill: #D2E3FC;\n",
              "    }\n",
              "\n",
              "    [theme=dark] .colab-df-convert:hover {\n",
              "      background-color: #434B5C;\n",
              "      box-shadow: 0px 1px 3px 1px rgba(0, 0, 0, 0.15);\n",
              "      filter: drop-shadow(0px 1px 2px rgba(0, 0, 0, 0.3));\n",
              "      fill: #FFFFFF;\n",
              "    }\n",
              "  </style>\n",
              "\n",
              "      <script>\n",
              "        const buttonEl =\n",
              "          document.querySelector('#df-e7a72e59-ba83-478b-9f89-1acb04572b28 button.colab-df-convert');\n",
              "        buttonEl.style.display =\n",
              "          google.colab.kernel.accessAllowed ? 'block' : 'none';\n",
              "\n",
              "        async function convertToInteractive(key) {\n",
              "          const element = document.querySelector('#df-e7a72e59-ba83-478b-9f89-1acb04572b28');\n",
              "          const dataTable =\n",
              "            await google.colab.kernel.invokeFunction('convertToInteractive',\n",
              "                                                     [key], {});\n",
              "          if (!dataTable) return;\n",
              "\n",
              "          const docLinkHtml = 'Like what you see? Visit the ' +\n",
              "            '<a target=\"_blank\" href=https://colab.research.google.com/notebooks/data_table.ipynb>data table notebook</a>'\n",
              "            + ' to learn more about interactive tables.';\n",
              "          element.innerHTML = '';\n",
              "          dataTable['output_type'] = 'display_data';\n",
              "          await google.colab.output.renderOutput(dataTable, element);\n",
              "          const docLink = document.createElement('div');\n",
              "          docLink.innerHTML = docLinkHtml;\n",
              "          element.appendChild(docLink);\n",
              "        }\n",
              "      </script>\n",
              "    </div>\n",
              "  </div>\n",
              "  "
            ]
          },
          "metadata": {},
          "execution_count": 13
        }
      ]
    },
    {
      "cell_type": "markdown",
      "source": [
        "### Number of movies with zero budget."
      ],
      "metadata": {
        "id": "Dh0FjVojYYt7"
      }
    },
    {
      "cell_type": "code",
      "source": [
        "df[df[\"budget\"]==0][\"title\"].count()"
      ],
      "metadata": {
        "id": "eVJyQ-oazeu7",
        "colab": {
          "base_uri": "https://localhost:8080/"
        },
        "outputId": "1e523ed6-3f29-44e5-d4d7-9f5dea5f24c3"
      },
      "execution_count": null,
      "outputs": [
        {
          "output_type": "execute_result",
          "data": {
            "text/plain": [
              "3812"
            ]
          },
          "metadata": {},
          "execution_count": 14
        }
      ]
    },
    {
      "cell_type": "markdown",
      "source": [
        "### Number of movies with zero budget."
      ],
      "metadata": {
        "id": "3FOugBWWYrET"
      }
    },
    {
      "cell_type": "code",
      "source": [
        "df[df[\"revenue\"]==0][\"title\"].count()"
      ],
      "metadata": {
        "id": "aE7hRlAHzihq",
        "colab": {
          "base_uri": "https://localhost:8080/"
        },
        "outputId": "7d1b66d7-3051-4437-9e39-04412b2ed18b"
      },
      "execution_count": null,
      "outputs": [
        {
          "output_type": "execute_result",
          "data": {
            "text/plain": [
              "3352"
            ]
          },
          "metadata": {},
          "execution_count": 15
        }
      ]
    },
    {
      "cell_type": "markdown",
      "source": [
        "### Number of movies with zero runtime."
      ],
      "metadata": {
        "id": "WQSUadIjYzJl"
      }
    },
    {
      "cell_type": "code",
      "source": [
        "df[df[\"runtime\"]==0][\"title\"].count()"
      ],
      "metadata": {
        "id": "hO_D3cj9zjYP",
        "colab": {
          "base_uri": "https://localhost:8080/"
        },
        "outputId": "a6479670-bee2-4b6f-9054-f65b6bf97148"
      },
      "execution_count": null,
      "outputs": [
        {
          "output_type": "execute_result",
          "data": {
            "text/plain": [
              "2"
            ]
          },
          "metadata": {},
          "execution_count": 16
        }
      ]
    },
    {
      "cell_type": "markdown",
      "source": [
        "### The following conclusions can be drawn from the above data:  \n",
        "\n",
        "\n",
        "*   There is no necessary link between budget and revenue. But it's impossible to have revenue from a 0-budget movie.\n",
        "\n",
        "*   These movies with zero budgets or zero revenue make up about a third of the data set, and I couldn't simply remove all of these rows. So I'm going to take the median of the field and use it to populate these rows."
      ],
      "metadata": {
        "id": "f3zUSIQZbJCT"
      }
    },
    {
      "cell_type": "code",
      "source": [
        "df['budget']=df['budget'].replace(0,df['budget'].median())\n",
        "df['revenue']=df['revenue'].replace(0,df['revenue'].median())\n",
        "df['runtime']=df['runtime'].replace(0,df['runtime'].median())"
      ],
      "metadata": {
        "id": "Bwz1e33FaEQm"
      },
      "execution_count": null,
      "outputs": []
    },
    {
      "cell_type": "markdown",
      "source": [
        "### Check if the filling is successful."
      ],
      "metadata": {
        "id": "6oKmO5qRd_b6"
      }
    },
    {
      "cell_type": "code",
      "source": [
        "print(df[df[\"budget\"]==0][\"title\"].count())\n",
        "print(df[df[\"revenue\"]==0][\"title\"].count())\n",
        "print(df[df[\"runtime\"]==0][\"title\"].count())"
      ],
      "metadata": {
        "colab": {
          "base_uri": "https://localhost:8080/"
        },
        "id": "LhU4GD3aasbe",
        "outputId": "2e88776d-4c72-4dbf-c907-dc7b3eed7a79"
      },
      "execution_count": null,
      "outputs": [
        {
          "output_type": "stream",
          "name": "stdout",
          "text": [
            "0\n",
            "0\n",
            "0\n"
          ]
        }
      ]
    },
    {
      "cell_type": "markdown",
      "source": [
        "### Movies with popularity greater than 1000."
      ],
      "metadata": {
        "id": "vWqOSNobeWZf"
      }
    },
    {
      "cell_type": "code",
      "source": [
        "df[df['popularity']>1000][[\"title\",\"vote_average\"]]"
      ],
      "metadata": {
        "id": "_w7BokCWzpXt",
        "colab": {
          "base_uri": "https://localhost:8080/",
          "height": 237
        },
        "outputId": "f7c36949-b4c7-4fbf-edc7-28929886f54e"
      },
      "execution_count": null,
      "outputs": [
        {
          "output_type": "execute_result",
          "data": {
            "text/plain": [
              "                               title  vote_average\n",
              "54      Puss in Boots: The Last Wish         8.337\n",
              "2110  Black Panther: Wakanda Forever         7.316\n",
              "3993                           Plane         6.887\n",
              "5903                    Cocaine Bear         6.500\n",
              "6304              Knock at the Cabin         6.442\n",
              "7648                        Die Hart         6.141"
            ],
            "text/html": [
              "\n",
              "  <div id=\"df-0a0317b8-4a27-4fec-bf77-9b4289640873\">\n",
              "    <div class=\"colab-df-container\">\n",
              "      <div>\n",
              "<style scoped>\n",
              "    .dataframe tbody tr th:only-of-type {\n",
              "        vertical-align: middle;\n",
              "    }\n",
              "\n",
              "    .dataframe tbody tr th {\n",
              "        vertical-align: top;\n",
              "    }\n",
              "\n",
              "    .dataframe thead th {\n",
              "        text-align: right;\n",
              "    }\n",
              "</style>\n",
              "<table border=\"1\" class=\"dataframe\">\n",
              "  <thead>\n",
              "    <tr style=\"text-align: right;\">\n",
              "      <th></th>\n",
              "      <th>title</th>\n",
              "      <th>vote_average</th>\n",
              "    </tr>\n",
              "  </thead>\n",
              "  <tbody>\n",
              "    <tr>\n",
              "      <th>54</th>\n",
              "      <td>Puss in Boots: The Last Wish</td>\n",
              "      <td>8.337</td>\n",
              "    </tr>\n",
              "    <tr>\n",
              "      <th>2110</th>\n",
              "      <td>Black Panther: Wakanda Forever</td>\n",
              "      <td>7.316</td>\n",
              "    </tr>\n",
              "    <tr>\n",
              "      <th>3993</th>\n",
              "      <td>Plane</td>\n",
              "      <td>6.887</td>\n",
              "    </tr>\n",
              "    <tr>\n",
              "      <th>5903</th>\n",
              "      <td>Cocaine Bear</td>\n",
              "      <td>6.500</td>\n",
              "    </tr>\n",
              "    <tr>\n",
              "      <th>6304</th>\n",
              "      <td>Knock at the Cabin</td>\n",
              "      <td>6.442</td>\n",
              "    </tr>\n",
              "    <tr>\n",
              "      <th>7648</th>\n",
              "      <td>Die Hart</td>\n",
              "      <td>6.141</td>\n",
              "    </tr>\n",
              "  </tbody>\n",
              "</table>\n",
              "</div>\n",
              "      <button class=\"colab-df-convert\" onclick=\"convertToInteractive('df-0a0317b8-4a27-4fec-bf77-9b4289640873')\"\n",
              "              title=\"Convert this dataframe to an interactive table.\"\n",
              "              style=\"display:none;\">\n",
              "        \n",
              "  <svg xmlns=\"http://www.w3.org/2000/svg\" height=\"24px\"viewBox=\"0 0 24 24\"\n",
              "       width=\"24px\">\n",
              "    <path d=\"M0 0h24v24H0V0z\" fill=\"none\"/>\n",
              "    <path d=\"M18.56 5.44l.94 2.06.94-2.06 2.06-.94-2.06-.94-.94-2.06-.94 2.06-2.06.94zm-11 1L8.5 8.5l.94-2.06 2.06-.94-2.06-.94L8.5 2.5l-.94 2.06-2.06.94zm10 10l.94 2.06.94-2.06 2.06-.94-2.06-.94-.94-2.06-.94 2.06-2.06.94z\"/><path d=\"M17.41 7.96l-1.37-1.37c-.4-.4-.92-.59-1.43-.59-.52 0-1.04.2-1.43.59L10.3 9.45l-7.72 7.72c-.78.78-.78 2.05 0 2.83L4 21.41c.39.39.9.59 1.41.59.51 0 1.02-.2 1.41-.59l7.78-7.78 2.81-2.81c.8-.78.8-2.07 0-2.86zM5.41 20L4 18.59l7.72-7.72 1.47 1.35L5.41 20z\"/>\n",
              "  </svg>\n",
              "      </button>\n",
              "      \n",
              "  <style>\n",
              "    .colab-df-container {\n",
              "      display:flex;\n",
              "      flex-wrap:wrap;\n",
              "      gap: 12px;\n",
              "    }\n",
              "\n",
              "    .colab-df-convert {\n",
              "      background-color: #E8F0FE;\n",
              "      border: none;\n",
              "      border-radius: 50%;\n",
              "      cursor: pointer;\n",
              "      display: none;\n",
              "      fill: #1967D2;\n",
              "      height: 32px;\n",
              "      padding: 0 0 0 0;\n",
              "      width: 32px;\n",
              "    }\n",
              "\n",
              "    .colab-df-convert:hover {\n",
              "      background-color: #E2EBFA;\n",
              "      box-shadow: 0px 1px 2px rgba(60, 64, 67, 0.3), 0px 1px 3px 1px rgba(60, 64, 67, 0.15);\n",
              "      fill: #174EA6;\n",
              "    }\n",
              "\n",
              "    [theme=dark] .colab-df-convert {\n",
              "      background-color: #3B4455;\n",
              "      fill: #D2E3FC;\n",
              "    }\n",
              "\n",
              "    [theme=dark] .colab-df-convert:hover {\n",
              "      background-color: #434B5C;\n",
              "      box-shadow: 0px 1px 3px 1px rgba(0, 0, 0, 0.15);\n",
              "      filter: drop-shadow(0px 1px 2px rgba(0, 0, 0, 0.3));\n",
              "      fill: #FFFFFF;\n",
              "    }\n",
              "  </style>\n",
              "\n",
              "      <script>\n",
              "        const buttonEl =\n",
              "          document.querySelector('#df-0a0317b8-4a27-4fec-bf77-9b4289640873 button.colab-df-convert');\n",
              "        buttonEl.style.display =\n",
              "          google.colab.kernel.accessAllowed ? 'block' : 'none';\n",
              "\n",
              "        async function convertToInteractive(key) {\n",
              "          const element = document.querySelector('#df-0a0317b8-4a27-4fec-bf77-9b4289640873');\n",
              "          const dataTable =\n",
              "            await google.colab.kernel.invokeFunction('convertToInteractive',\n",
              "                                                     [key], {});\n",
              "          if (!dataTable) return;\n",
              "\n",
              "          const docLinkHtml = 'Like what you see? Visit the ' +\n",
              "            '<a target=\"_blank\" href=https://colab.research.google.com/notebooks/data_table.ipynb>data table notebook</a>'\n",
              "            + ' to learn more about interactive tables.';\n",
              "          element.innerHTML = '';\n",
              "          dataTable['output_type'] = 'display_data';\n",
              "          await google.colab.output.renderOutput(dataTable, element);\n",
              "          const docLink = document.createElement('div');\n",
              "          docLink.innerHTML = docLinkHtml;\n",
              "          element.appendChild(docLink);\n",
              "        }\n",
              "      </script>\n",
              "    </div>\n",
              "  </div>\n",
              "  "
            ]
          },
          "metadata": {},
          "execution_count": 19
        }
      ]
    },
    {
      "cell_type": "markdown",
      "source": [
        "### Movies with popularity less than 2."
      ],
      "metadata": {
        "id": "cpdhmD-vee2h"
      }
    },
    {
      "cell_type": "code",
      "source": [
        "df[df['popularity']<2][[\"title\",\"vote_average\"]]"
      ],
      "metadata": {
        "id": "mkeDJZH9zo-p",
        "colab": {
          "base_uri": "https://localhost:8080/",
          "height": 707
        },
        "outputId": "c87ddeb7-0eed-4baf-f9a8-56b5a81e4f98"
      },
      "execution_count": null,
      "outputs": [
        {
          "output_type": "execute_result",
          "data": {
            "text/plain": [
              "                                 title  vote_average\n",
              "25              Grave of the Fireflies         8.445\n",
              "36                  Hotarubi no Mori e         8.399\n",
              "668           Lisbela and the Prisoner         7.784\n",
              "2575              Toy Story of Terror!         7.204\n",
              "3411                                X2         7.022\n",
              "3475                         Manhunter         7.006\n",
              "3550                             X-Men         6.990\n",
              "3953                            Tracks         6.909\n",
              "3990                    Odds and Evens         6.902\n",
              "4586  Bring It On: Fight to the Finish         6.800\n",
              "5289       Bring It On: All or Nothing         6.642\n",
              "5942      Bring It On: In It to Win It         6.514\n",
              "5989           A Rainy Day in New York         6.502\n",
              "6018                        Stalingrad         6.497\n",
              "6490             X-Men: The Last Stand         6.404\n",
              "6932                    Los Bandoleros         6.314\n",
              "7174                    The Internship         6.264\n",
              "7886                 Jurassic Park III         6.120\n",
              "8244          Resident Evil: Afterlife         6.044\n",
              "8448                            G.B.F.         5.995\n",
              "8662                 Bring It On Again         5.900"
            ],
            "text/html": [
              "\n",
              "  <div id=\"df-b8e9fc54-699e-4a80-b3ad-5fb6737c0d74\">\n",
              "    <div class=\"colab-df-container\">\n",
              "      <div>\n",
              "<style scoped>\n",
              "    .dataframe tbody tr th:only-of-type {\n",
              "        vertical-align: middle;\n",
              "    }\n",
              "\n",
              "    .dataframe tbody tr th {\n",
              "        vertical-align: top;\n",
              "    }\n",
              "\n",
              "    .dataframe thead th {\n",
              "        text-align: right;\n",
              "    }\n",
              "</style>\n",
              "<table border=\"1\" class=\"dataframe\">\n",
              "  <thead>\n",
              "    <tr style=\"text-align: right;\">\n",
              "      <th></th>\n",
              "      <th>title</th>\n",
              "      <th>vote_average</th>\n",
              "    </tr>\n",
              "  </thead>\n",
              "  <tbody>\n",
              "    <tr>\n",
              "      <th>25</th>\n",
              "      <td>Grave of the Fireflies</td>\n",
              "      <td>8.445</td>\n",
              "    </tr>\n",
              "    <tr>\n",
              "      <th>36</th>\n",
              "      <td>Hotarubi no Mori e</td>\n",
              "      <td>8.399</td>\n",
              "    </tr>\n",
              "    <tr>\n",
              "      <th>668</th>\n",
              "      <td>Lisbela and the Prisoner</td>\n",
              "      <td>7.784</td>\n",
              "    </tr>\n",
              "    <tr>\n",
              "      <th>2575</th>\n",
              "      <td>Toy Story of Terror!</td>\n",
              "      <td>7.204</td>\n",
              "    </tr>\n",
              "    <tr>\n",
              "      <th>3411</th>\n",
              "      <td>X2</td>\n",
              "      <td>7.022</td>\n",
              "    </tr>\n",
              "    <tr>\n",
              "      <th>3475</th>\n",
              "      <td>Manhunter</td>\n",
              "      <td>7.006</td>\n",
              "    </tr>\n",
              "    <tr>\n",
              "      <th>3550</th>\n",
              "      <td>X-Men</td>\n",
              "      <td>6.990</td>\n",
              "    </tr>\n",
              "    <tr>\n",
              "      <th>3953</th>\n",
              "      <td>Tracks</td>\n",
              "      <td>6.909</td>\n",
              "    </tr>\n",
              "    <tr>\n",
              "      <th>3990</th>\n",
              "      <td>Odds and Evens</td>\n",
              "      <td>6.902</td>\n",
              "    </tr>\n",
              "    <tr>\n",
              "      <th>4586</th>\n",
              "      <td>Bring It On: Fight to the Finish</td>\n",
              "      <td>6.800</td>\n",
              "    </tr>\n",
              "    <tr>\n",
              "      <th>5289</th>\n",
              "      <td>Bring It On: All or Nothing</td>\n",
              "      <td>6.642</td>\n",
              "    </tr>\n",
              "    <tr>\n",
              "      <th>5942</th>\n",
              "      <td>Bring It On: In It to Win It</td>\n",
              "      <td>6.514</td>\n",
              "    </tr>\n",
              "    <tr>\n",
              "      <th>5989</th>\n",
              "      <td>A Rainy Day in New York</td>\n",
              "      <td>6.502</td>\n",
              "    </tr>\n",
              "    <tr>\n",
              "      <th>6018</th>\n",
              "      <td>Stalingrad</td>\n",
              "      <td>6.497</td>\n",
              "    </tr>\n",
              "    <tr>\n",
              "      <th>6490</th>\n",
              "      <td>X-Men: The Last Stand</td>\n",
              "      <td>6.404</td>\n",
              "    </tr>\n",
              "    <tr>\n",
              "      <th>6932</th>\n",
              "      <td>Los Bandoleros</td>\n",
              "      <td>6.314</td>\n",
              "    </tr>\n",
              "    <tr>\n",
              "      <th>7174</th>\n",
              "      <td>The Internship</td>\n",
              "      <td>6.264</td>\n",
              "    </tr>\n",
              "    <tr>\n",
              "      <th>7886</th>\n",
              "      <td>Jurassic Park III</td>\n",
              "      <td>6.120</td>\n",
              "    </tr>\n",
              "    <tr>\n",
              "      <th>8244</th>\n",
              "      <td>Resident Evil: Afterlife</td>\n",
              "      <td>6.044</td>\n",
              "    </tr>\n",
              "    <tr>\n",
              "      <th>8448</th>\n",
              "      <td>G.B.F.</td>\n",
              "      <td>5.995</td>\n",
              "    </tr>\n",
              "    <tr>\n",
              "      <th>8662</th>\n",
              "      <td>Bring It On Again</td>\n",
              "      <td>5.900</td>\n",
              "    </tr>\n",
              "  </tbody>\n",
              "</table>\n",
              "</div>\n",
              "      <button class=\"colab-df-convert\" onclick=\"convertToInteractive('df-b8e9fc54-699e-4a80-b3ad-5fb6737c0d74')\"\n",
              "              title=\"Convert this dataframe to an interactive table.\"\n",
              "              style=\"display:none;\">\n",
              "        \n",
              "  <svg xmlns=\"http://www.w3.org/2000/svg\" height=\"24px\"viewBox=\"0 0 24 24\"\n",
              "       width=\"24px\">\n",
              "    <path d=\"M0 0h24v24H0V0z\" fill=\"none\"/>\n",
              "    <path d=\"M18.56 5.44l.94 2.06.94-2.06 2.06-.94-2.06-.94-.94-2.06-.94 2.06-2.06.94zm-11 1L8.5 8.5l.94-2.06 2.06-.94-2.06-.94L8.5 2.5l-.94 2.06-2.06.94zm10 10l.94 2.06.94-2.06 2.06-.94-2.06-.94-.94-2.06-.94 2.06-2.06.94z\"/><path d=\"M17.41 7.96l-1.37-1.37c-.4-.4-.92-.59-1.43-.59-.52 0-1.04.2-1.43.59L10.3 9.45l-7.72 7.72c-.78.78-.78 2.05 0 2.83L4 21.41c.39.39.9.59 1.41.59.51 0 1.02-.2 1.41-.59l7.78-7.78 2.81-2.81c.8-.78.8-2.07 0-2.86zM5.41 20L4 18.59l7.72-7.72 1.47 1.35L5.41 20z\"/>\n",
              "  </svg>\n",
              "      </button>\n",
              "      \n",
              "  <style>\n",
              "    .colab-df-container {\n",
              "      display:flex;\n",
              "      flex-wrap:wrap;\n",
              "      gap: 12px;\n",
              "    }\n",
              "\n",
              "    .colab-df-convert {\n",
              "      background-color: #E8F0FE;\n",
              "      border: none;\n",
              "      border-radius: 50%;\n",
              "      cursor: pointer;\n",
              "      display: none;\n",
              "      fill: #1967D2;\n",
              "      height: 32px;\n",
              "      padding: 0 0 0 0;\n",
              "      width: 32px;\n",
              "    }\n",
              "\n",
              "    .colab-df-convert:hover {\n",
              "      background-color: #E2EBFA;\n",
              "      box-shadow: 0px 1px 2px rgba(60, 64, 67, 0.3), 0px 1px 3px 1px rgba(60, 64, 67, 0.15);\n",
              "      fill: #174EA6;\n",
              "    }\n",
              "\n",
              "    [theme=dark] .colab-df-convert {\n",
              "      background-color: #3B4455;\n",
              "      fill: #D2E3FC;\n",
              "    }\n",
              "\n",
              "    [theme=dark] .colab-df-convert:hover {\n",
              "      background-color: #434B5C;\n",
              "      box-shadow: 0px 1px 3px 1px rgba(0, 0, 0, 0.15);\n",
              "      filter: drop-shadow(0px 1px 2px rgba(0, 0, 0, 0.3));\n",
              "      fill: #FFFFFF;\n",
              "    }\n",
              "  </style>\n",
              "\n",
              "      <script>\n",
              "        const buttonEl =\n",
              "          document.querySelector('#df-b8e9fc54-699e-4a80-b3ad-5fb6737c0d74 button.colab-df-convert');\n",
              "        buttonEl.style.display =\n",
              "          google.colab.kernel.accessAllowed ? 'block' : 'none';\n",
              "\n",
              "        async function convertToInteractive(key) {\n",
              "          const element = document.querySelector('#df-b8e9fc54-699e-4a80-b3ad-5fb6737c0d74');\n",
              "          const dataTable =\n",
              "            await google.colab.kernel.invokeFunction('convertToInteractive',\n",
              "                                                     [key], {});\n",
              "          if (!dataTable) return;\n",
              "\n",
              "          const docLinkHtml = 'Like what you see? Visit the ' +\n",
              "            '<a target=\"_blank\" href=https://colab.research.google.com/notebooks/data_table.ipynb>data table notebook</a>'\n",
              "            + ' to learn more about interactive tables.';\n",
              "          element.innerHTML = '';\n",
              "          dataTable['output_type'] = 'display_data';\n",
              "          await google.colab.output.renderOutput(dataTable, element);\n",
              "          const docLink = document.createElement('div');\n",
              "          docLink.innerHTML = docLinkHtml;\n",
              "          element.appendChild(docLink);\n",
              "        }\n",
              "      </script>\n",
              "    </div>\n",
              "  </div>\n",
              "  "
            ]
          },
          "metadata": {},
          "execution_count": 20
        }
      ]
    },
    {
      "cell_type": "markdown",
      "source": [
        "### The scatter plot represents the relationship between the average voting score and the popularity of the movie.  \n",
        "\n",
        "\n",
        "Each average vote value is similar, but some of the prevalence values are extremely discrete.\n",
        "\n"
      ],
      "metadata": {
        "id": "yD6QsEVNex4-"
      }
    },
    {
      "cell_type": "code",
      "source": [
        "import matplotlib.pyplot as plt\n",
        "df.plot(x='vote_average',y='popularity',kind='scatter')\n",
        "plt.title('Vote_Average compare with Popularity')\n",
        "plt.show()"
      ],
      "metadata": {
        "id": "--onLc80zowb",
        "colab": {
          "base_uri": "https://localhost:8080/",
          "height": 352
        },
        "outputId": "d6233c9d-9782-461c-fed1-41e29801f22d"
      },
      "execution_count": null,
      "outputs": [
        {
          "output_type": "stream",
          "name": "stderr",
          "text": [
            "/usr/local/lib/python3.9/dist-packages/pandas/plotting/_matplotlib/core.py:1114: UserWarning: No data for colormapping provided via 'c'. Parameters 'cmap' will be ignored\n",
            "  scatter = ax.scatter(\n"
          ]
        },
        {
          "output_type": "display_data",
          "data": {
            "text/plain": [
              "<Figure size 432x288 with 1 Axes>"
            ],
            "image/png": "[encoded data removed]"
          },
          "metadata": {
            "needs_background": "light"
          }
        }
      ]
    },
    {
      "cell_type": "markdown",
      "source": [
        "### By looking at the dataframe structure I found that some fields have many keywords, for example the genre field, a movie may have more than one genre. But the value of id inside is not needed, so I only extract the value of name."
      ],
      "metadata": {
        "id": "S1CvQ2P1fgYB"
      }
    },
    {
      "cell_type": "code",
      "source": [
        "from ast import literal_eval\n",
        "def pre_process_col(col):\n",
        "    col = col.apply(literal_eval)\n",
        "    col = col.apply(lambda x: [i['name'] for i in x] if isinstance(x,list) else [])\n",
        "    col = col.astype(str).str[1:-1].str.replace(\"'\", \"\").str.replace(\", \", \",\") #Remove the brackets first, then remove the single quotes, and finally remove the spaces.\n",
        "    return col"
      ],
      "metadata": {
        "id": "55V3bQPbz384"
      },
      "execution_count": null,
      "outputs": []
    },
    {
      "cell_type": "code",
      "source": [
        "df['production_countries'] = pre_process_col(df[\"production_countries\"])\n",
        "df['production_companies'] = pre_process_col(df[\"production_companies\"])\n",
        "df['genres'] = pre_process_col(df[\"genres\"])\n",
        "df.head(5)"
      ],
      "metadata": {
        "id": "N5X04OPlz30Z",
        "colab": {
          "base_uri": "https://localhost:8080/",
          "height": 634
        },
        "outputId": "e5133c69-55db-4b8a-9396-e0380218a049"
      },
      "execution_count": null,
      "outputs": [
        {
          "output_type": "execute_result",
          "data": {
            "text/plain": [
              "                      title  adult    budget             genres  \\\n",
              "0             The Godfather  False   6000000        Drama,Crime   \n",
              "1  The Shawshank Redemption  False  25000000        Drama,Crime   \n",
              "2          Cuando Sea Joven  False   4225000     Comedy,Fantasy   \n",
              "3     The Godfather Part II  False  13000000        Drama,Crime   \n",
              "4          Schindler's List  False  22000000  Drama,History,War   \n",
              "\n",
              "  original_language            original_title  \\\n",
              "0                en             The Godfather   \n",
              "1                en  The Shawshank Redemption   \n",
              "2                es          Cuando Sea Joven   \n",
              "3                en     The Godfather Part II   \n",
              "4                en          Schindler's List   \n",
              "\n",
              "                                            overview  popularity  \\\n",
              "0  Spanning the years 1945 to 1955, a chronicle o...     129.885   \n",
              "1  Framed in the 1940s for the double murder of h...      92.438   \n",
              "2  70-year-old Malena gets a second chance at lif...      37.959   \n",
              "3  In the continuing saga of the Corleone crime f...      80.308   \n",
              "4  The true story of how businessman Oskar Schind...      50.098   \n",
              "\n",
              "            production_companies      production_countries release_date  \\\n",
              "0   Paramount,Alfran Productions  United States of America   1972-03-14   \n",
              "1      Castle Rock Entertainment  United States of America   1994-09-23   \n",
              "2                      Lionsgate                             2022-09-14   \n",
              "3  Paramount,The Coppola Company  United States of America   1974-12-20   \n",
              "4           Amblin Entertainment  United States of America   1993-12-15   \n",
              "\n",
              "     revenue  runtime    status  vote_average  vote_count  \n",
              "0  245066411      175  Released         8.712       17640  \n",
              "1   28341469      142  Released         8.701       23480  \n",
              "2    7158988      115  Released         8.642         212  \n",
              "3  102600000      202  Released         8.597       10689  \n",
              "4  321365567      195  Released         8.568       13885  "
            ],
            "text/html": [
              "\n",
              "  <div id=\"df-52f3b18a-ec36-4dc1-ab22-9d6abdc28db0\">\n",
              "    <div class=\"colab-df-container\">\n",
              "      <div>\n",
              "<style scoped>\n",
              "    .dataframe tbody tr th:only-of-type {\n",
              "        vertical-align: middle;\n",
              "    }\n",
              "\n",
              "    .dataframe tbody tr th {\n",
              "        vertical-align: top;\n",
              "    }\n",
              "\n",
              "    .dataframe thead th {\n",
              "        text-align: right;\n",
              "    }\n",
              "</style>\n",
              "<table border=\"1\" class=\"dataframe\">\n",
              "  <thead>\n",
              "    <tr style=\"text-align: right;\">\n",
              "      <th></th>\n",
              "      <th>title</th>\n",
              "      <th>adult</th>\n",
              "      <th>budget</th>\n",
              "      <th>genres</th>\n",
              "      <th>original_language</th>\n",
              "      <th>original_title</th>\n",
              "      <th>overview</th>\n",
              "      <th>popularity</th>\n",
              "      <th>production_companies</th>\n",
              "      <th>production_countries</th>\n",
              "      <th>release_date</th>\n",
              "      <th>revenue</th>\n",
              "      <th>runtime</th>\n",
              "      <th>status</th>\n",
              "      <th>vote_average</th>\n",
              "      <th>vote_count</th>\n",
              "    </tr>\n",
              "  </thead>\n",
              "  <tbody>\n",
              "    <tr>\n",
              "      <th>0</th>\n",
              "      <td>The Godfather</td>\n",
              "      <td>False</td>\n",
              "      <td>6000000</td>\n",
              "      <td>Drama,Crime</td>\n",
              "      <td>en</td>\n",
              "      <td>The Godfather</td>\n",
              "      <td>Spanning the years 1945 to 1955, a chronicle o...</td>\n",
              "      <td>129.885</td>\n",
              "      <td>Paramount,Alfran Productions</td>\n",
              "      <td>United States of America</td>\n",
              "      <td>1972-03-14</td>\n",
              "      <td>245066411</td>\n",
              "      <td>175</td>\n",
              "      <td>Released</td>\n",
              "      <td>8.712</td>\n",
              "      <td>17640</td>\n",
              "    </tr>\n",
              "    <tr>\n",
              "      <th>1</th>\n",
              "      <td>The Shawshank Redemption</td>\n",
              "      <td>False</td>\n",
              "      <td>25000000</td>\n",
              "      <td>Drama,Crime</td>\n",
              "      <td>en</td>\n",
              "      <td>The Shawshank Redemption</td>\n",
              "      <td>Framed in the 1940s for the double murder of h...</td>\n",
              "      <td>92.438</td>\n",
              "      <td>Castle Rock Entertainment</td>\n",
              "      <td>United States of America</td>\n",
              "      <td>1994-09-23</td>\n",
              "      <td>28341469</td>\n",
              "      <td>142</td>\n",
              "      <td>Released</td>\n",
              "      <td>8.701</td>\n",
              "      <td>23480</td>\n",
              "    </tr>\n",
              "    <tr>\n",
              "      <th>2</th>\n",
              "      <td>Cuando Sea Joven</td>\n",
              "      <td>False</td>\n",
              "      <td>4225000</td>\n",
              "      <td>Comedy,Fantasy</td>\n",
              "      <td>es</td>\n",
              "      <td>Cuando Sea Joven</td>\n",
              "      <td>70-year-old Malena gets a second chance at lif...</td>\n",
              "      <td>37.959</td>\n",
              "      <td>Lionsgate</td>\n",
              "      <td></td>\n",
              "      <td>2022-09-14</td>\n",
              "      <td>7158988</td>\n",
              "      <td>115</td>\n",
              "      <td>Released</td>\n",
              "      <td>8.642</td>\n",
              "      <td>212</td>\n",
              "    </tr>\n",
              "    <tr>\n",
              "      <th>3</th>\n",
              "      <td>The Godfather Part II</td>\n",
              "      <td>False</td>\n",
              "      <td>13000000</td>\n",
              "      <td>Drama,Crime</td>\n",
              "      <td>en</td>\n",
              "      <td>The Godfather Part II</td>\n",
              "      <td>In the continuing saga of the Corleone crime f...</td>\n",
              "      <td>80.308</td>\n",
              "      <td>Paramount,The Coppola Company</td>\n",
              "      <td>United States of America</td>\n",
              "      <td>1974-12-20</td>\n",
              "      <td>102600000</td>\n",
              "      <td>202</td>\n",
              "      <td>Released</td>\n",
              "      <td>8.597</td>\n",
              "      <td>10689</td>\n",
              "    </tr>\n",
              "    <tr>\n",
              "      <th>4</th>\n",
              "      <td>Schindler's List</td>\n",
              "      <td>False</td>\n",
              "      <td>22000000</td>\n",
              "      <td>Drama,History,War</td>\n",
              "      <td>en</td>\n",
              "      <td>Schindler's List</td>\n",
              "      <td>The true story of how businessman Oskar Schind...</td>\n",
              "      <td>50.098</td>\n",
              "      <td>Amblin Entertainment</td>\n",
              "      <td>United States of America</td>\n",
              "      <td>1993-12-15</td>\n",
              "      <td>321365567</td>\n",
              "      <td>195</td>\n",
              "      <td>Released</td>\n",
              "      <td>8.568</td>\n",
              "      <td>13885</td>\n",
              "    </tr>\n",
              "  </tbody>\n",
              "</table>\n",
              "</div>\n",
              "      <button class=\"colab-df-convert\" onclick=\"convertToInteractive('df-52f3b18a-ec36-4dc1-ab22-9d6abdc28db0')\"\n",
              "              title=\"Convert this dataframe to an interactive table.\"\n",
              "              style=\"display:none;\">\n",
              "        \n",
              "  <svg xmlns=\"http://www.w3.org/2000/svg\" height=\"24px\"viewBox=\"0 0 24 24\"\n",
              "       width=\"24px\">\n",
              "    <path d=\"M0 0h24v24H0V0z\" fill=\"none\"/>\n",
              "    <path d=\"M18.56 5.44l.94 2.06.94-2.06 2.06-.94-2.06-.94-.94-2.06-.94 2.06-2.06.94zm-11 1L8.5 8.5l.94-2.06 2.06-.94-2.06-.94L8.5 2.5l-.94 2.06-2.06.94zm10 10l.94 2.06.94-2.06 2.06-.94-2.06-.94-.94-2.06-.94 2.06-2.06.94z\"/><path d=\"M17.41 7.96l-1.37-1.37c-.4-.4-.92-.59-1.43-.59-.52 0-1.04.2-1.43.59L10.3 9.45l-7.72 7.72c-.78.78-.78 2.05 0 2.83L4 21.41c.39.39.9.59 1.41.59.51 0 1.02-.2 1.41-.59l7.78-7.78 2.81-2.81c.8-.78.8-2.07 0-2.86zM5.41 20L4 18.59l7.72-7.72 1.47 1.35L5.41 20z\"/>\n",
              "  </svg>\n",
              "      </button>\n",
              "      \n",
              "  <style>\n",
              "    .colab-df-container {\n",
              "      display:flex;\n",
              "      flex-wrap:wrap;\n",
              "      gap: 12px;\n",
              "    }\n",
              "\n",
              "    .colab-df-convert {\n",
              "      background-color: #E8F0FE;\n",
              "      border: none;\n",
              "      border-radius: 50%;\n",
              "      cursor: pointer;\n",
              "      display: none;\n",
              "      fill: #1967D2;\n",
              "      height: 32px;\n",
              "      padding: 0 0 0 0;\n",
              "      width: 32px;\n",
              "    }\n",
              "\n",
              "    .colab-df-convert:hover {\n",
              "      background-color: #E2EBFA;\n",
              "      box-shadow: 0px 1px 2px rgba(60, 64, 67, 0.3), 0px 1px 3px 1px rgba(60, 64, 67, 0.15);\n",
              "      fill: #174EA6;\n",
              "    }\n",
              "\n",
              "    [theme=dark] .colab-df-convert {\n",
              "      background-color: #3B4455;\n",
              "      fill: #D2E3FC;\n",
              "    }\n",
              "\n",
              "    [theme=dark] .colab-df-convert:hover {\n",
              "      background-color: #434B5C;\n",
              "      box-shadow: 0px 1px 3px 1px rgba(0, 0, 0, 0.15);\n",
              "      filter: drop-shadow(0px 1px 2px rgba(0, 0, 0, 0.3));\n",
              "      fill: #FFFFFF;\n",
              "    }\n",
              "  </style>\n",
              "\n",
              "      <script>\n",
              "        const buttonEl =\n",
              "          document.querySelector('#df-52f3b18a-ec36-4dc1-ab22-9d6abdc28db0 button.colab-df-convert');\n",
              "        buttonEl.style.display =\n",
              "          google.colab.kernel.accessAllowed ? 'block' : 'none';\n",
              "\n",
              "        async function convertToInteractive(key) {\n",
              "          const element = document.querySelector('#df-52f3b18a-ec36-4dc1-ab22-9d6abdc28db0');\n",
              "          const dataTable =\n",
              "            await google.colab.kernel.invokeFunction('convertToInteractive',\n",
              "                                                     [key], {});\n",
              "          if (!dataTable) return;\n",
              "\n",
              "          const docLinkHtml = 'Like what you see? Visit the ' +\n",
              "            '<a target=\"_blank\" href=https://colab.research.google.com/notebooks/data_table.ipynb>data table notebook</a>'\n",
              "            + ' to learn more about interactive tables.';\n",
              "          element.innerHTML = '';\n",
              "          dataTable['output_type'] = 'display_data';\n",
              "          await google.colab.output.renderOutput(dataTable, element);\n",
              "          const docLink = document.createElement('div');\n",
              "          docLink.innerHTML = docLinkHtml;\n",
              "          element.appendChild(docLink);\n",
              "        }\n",
              "      </script>\n",
              "    </div>\n",
              "  </div>\n",
              "  "
            ]
          },
          "metadata": {},
          "execution_count": 23
        }
      ]
    },
    {
      "cell_type": "markdown",
      "source": [
        "### Adjust the time to pandas format."
      ],
      "metadata": {
        "id": "ITyBha00hlO5"
      }
    },
    {
      "cell_type": "code",
      "source": [
        "from datetime import datetime\n",
        "df.release_date = pd.to_datetime(df['release_date'])\n",
        "df[\"release_date\"].head(5)"
      ],
      "metadata": {
        "id": "wMISYsMfz3iX",
        "colab": {
          "base_uri": "https://localhost:8080/"
        },
        "outputId": "6cee62e6-c114-41a9-9830-bc953714dd9d"
      },
      "execution_count": null,
      "outputs": [
        {
          "output_type": "execute_result",
          "data": {
            "text/plain": [
              "0   1972-03-14\n",
              "1   1994-09-23\n",
              "2   2022-09-14\n",
              "3   1974-12-20\n",
              "4   1993-12-15\n",
              "Name: release_date, dtype: datetime64[ns]"
            ]
          },
          "metadata": {},
          "execution_count": 24
        }
      ]
    },
    {
      "cell_type": "markdown",
      "source": [
        "### Extracts the year and adds a new column for subsequent analysis."
      ],
      "metadata": {
        "id": "-7J4g6uzh3dh"
      }
    },
    {
      "cell_type": "code",
      "source": [
        "df['release_year'] = pd.DatetimeIndex(df['release_date']).year\n",
        "df['release_year'].head(5)"
      ],
      "metadata": {
        "id": "_tfuCODPz-S-",
        "colab": {
          "base_uri": "https://localhost:8080/"
        },
        "outputId": "3d13fe35-5edc-4d29-b1ec-ae65f3979f75"
      },
      "execution_count": null,
      "outputs": [
        {
          "output_type": "execute_result",
          "data": {
            "text/plain": [
              "0    1972\n",
              "1    1994\n",
              "2    2022\n",
              "3    1974\n",
              "4    1993\n",
              "Name: release_year, dtype: int64"
            ]
          },
          "metadata": {},
          "execution_count": 25
        }
      ]
    },
    {
      "cell_type": "markdown",
      "source": [
        "### Extracts the month and adds a new column for subsequent analysis."
      ],
      "metadata": {
        "id": "fcYay8a9iW1U"
      }
    },
    {
      "cell_type": "code",
      "source": [
        "import calendar\n",
        "df['release_month'] = pd.DatetimeIndex(df['release_date']).month\n",
        "df['release_month'].head(5)"
      ],
      "metadata": {
        "id": "I9buooLQz-jk",
        "colab": {
          "base_uri": "https://localhost:8080/"
        },
        "outputId": "20a1ec3a-83fe-4cb6-cc39-779c6e91fd1f"
      },
      "execution_count": null,
      "outputs": [
        {
          "output_type": "execute_result",
          "data": {
            "text/plain": [
              "0     3\n",
              "1     9\n",
              "2     9\n",
              "3    12\n",
              "4    12\n",
              "Name: release_month, dtype: int64"
            ]
          },
          "metadata": {},
          "execution_count": 26
        }
      ]
    },
    {
      "cell_type": "markdown",
      "source": [
        "### Adjust the month to English format."
      ],
      "metadata": {
        "id": "7Cs8RdARigMN"
      }
    },
    {
      "cell_type": "code",
      "source": [
        "df['release_month'] = df['release_month'].apply(lambda x: calendar.month_abbr[x])\n",
        "df['release_month'].head(5)"
      ],
      "metadata": {
        "id": "_R9O6BBL0EOw",
        "colab": {
          "base_uri": "https://localhost:8080/"
        },
        "outputId": "5ad90c63-c4bf-4aa0-b44b-7837275d8bf6"
      },
      "execution_count": null,
      "outputs": [
        {
          "output_type": "execute_result",
          "data": {
            "text/plain": [
              "0    Mar\n",
              "1    Sep\n",
              "2    Sep\n",
              "3    Dec\n",
              "4    Dec\n",
              "Name: release_month, dtype: object"
            ]
          },
          "metadata": {},
          "execution_count": 27
        }
      ]
    },
    {
      "cell_type": "markdown",
      "source": [
        "### Check if the field has a unique value."
      ],
      "metadata": {
        "id": "EnH46cmTjFvR"
      }
    },
    {
      "cell_type": "code",
      "source": [
        "df.apply(lambda col: col.nunique())"
      ],
      "metadata": {
        "id": "DcLTiP0K0EAJ",
        "colab": {
          "base_uri": "https://localhost:8080/"
        },
        "outputId": "119c61b9-5e07-493d-b777-6b7d0130f5c9"
      },
      "execution_count": null,
      "outputs": [
        {
          "output_type": "execute_result",
          "data": {
            "text/plain": [
              "title                   9639\n",
              "adult                      1\n",
              "budget                   819\n",
              "genres                  2157\n",
              "original_language         44\n",
              "original_title          9718\n",
              "overview                9976\n",
              "popularity              8354\n",
              "production_companies    8409\n",
              "production_countries     924\n",
              "release_date            6226\n",
              "revenue                 6317\n",
              "runtime                  215\n",
              "status                     1\n",
              "vote_average            2532\n",
              "vote_count              3283\n",
              "release_year             112\n",
              "release_month             12\n",
              "dtype: int64"
            ]
          },
          "metadata": {},
          "execution_count": 28
        }
      ]
    },
    {
      "cell_type": "code",
      "source": [
        "print(df[\"adult\"].unique())\n",
        "print(df[\"status\"].unique())"
      ],
      "metadata": {
        "id": "CO8lTdOr0Mu7",
        "colab": {
          "base_uri": "https://localhost:8080/"
        },
        "outputId": "7eadadcd-09b1-44ee-89e3-659130c429d4"
      },
      "execution_count": null,
      "outputs": [
        {
          "output_type": "stream",
          "name": "stdout",
          "text": [
            "[False]\n",
            "['Released']\n"
          ]
        }
      ]
    },
    {
      "cell_type": "markdown",
      "source": [
        "### These two fields with only unique values are not meaningful for the subsequent analysis, so I remove them."
      ],
      "metadata": {
        "id": "PTg70stmjQgZ"
      }
    },
    {
      "cell_type": "code",
      "source": [
        "df.drop(['adult','status'],axis =1,inplace = True)\n",
        "df.shape"
      ],
      "metadata": {
        "id": "VJ1CVQqU0Mkq",
        "colab": {
          "base_uri": "https://localhost:8080/"
        },
        "outputId": "199566fc-bc34-4b06-e45f-4d1527919212"
      },
      "execution_count": null,
      "outputs": [
        {
          "output_type": "execute_result",
          "data": {
            "text/plain": [
              "(9978, 16)"
            ]
          },
          "metadata": {},
          "execution_count": 30
        }
      ]
    },
    {
      "cell_type": "markdown",
      "source": [
        "### Check if there are duplicate entries in the dataframe."
      ],
      "metadata": {
        "id": "zrRwkJIHkO7U"
      }
    },
    {
      "cell_type": "code",
      "source": [
        "df.duplicated().any()"
      ],
      "metadata": {
        "id": "aMza98OT0SFd",
        "colab": {
          "base_uri": "https://localhost:8080/"
        },
        "outputId": "e053f250-9ac4-4c77-f259-8744b11816ec"
      },
      "execution_count": null,
      "outputs": [
        {
          "output_type": "execute_result",
          "data": {
            "text/plain": [
              "False"
            ]
          },
          "metadata": {},
          "execution_count": 31
        }
      ]
    },
    {
      "cell_type": "markdown",
      "source": [
        "### Check if the original name and the current name of the movie are the same."
      ],
      "metadata": {
        "id": "ClwZPQvOkex1"
      }
    },
    {
      "cell_type": "code",
      "source": [
        "df[df[\"title\"]!=df[\"original_title\"]][[\"title\",\"original_title\"]]"
      ],
      "metadata": {
        "id": "YuETOtvQ0R7t",
        "colab": {
          "base_uri": "https://localhost:8080/",
          "height": 423
        },
        "outputId": "4ad96fba-e349-4545-9ded-e9f8e0994bff"
      },
      "execution_count": null,
      "outputs": [
        {
          "output_type": "execute_result",
          "data": {
            "text/plain": [
              "                            title                original_title\n",
              "5     Dilwale Dulhania Le Jayenge  दिलवाले दुल्हनिया ले जायेंगे\n",
              "6                   Spirited Away                      千と千尋の神隠し\n",
              "8                      Your Name.                         君の名は。\n",
              "9                        Parasite                           기생충\n",
              "14       Dou kyu sei – Classmates                           同級生\n",
              "...                           ...                           ...\n",
              "9938                 Royal Palace                Palais royal !\n",
              "9946          Ex 2: Still Friends        Ex - Amici come prima!\n",
              "9951                       Cheeky                 Tra(sgre)dire\n",
              "9952      Diary of a Nymphomaniac       Diario de una ninfómana\n",
              "9969                    Slack Bay                      Ma Loute\n",
              "\n",
              "[1972 rows x 2 columns]"
            ],
            "text/html": [
              "\n",
              "  <div id=\"df-94a167f7-9798-4a64-8a5b-700c9375b4f7\">\n",
              "    <div class=\"colab-df-container\">\n",
              "      <div>\n",
              "<style scoped>\n",
              "    .dataframe tbody tr th:only-of-type {\n",
              "        vertical-align: middle;\n",
              "    }\n",
              "\n",
              "    .dataframe tbody tr th {\n",
              "        vertical-align: top;\n",
              "    }\n",
              "\n",
              "    .dataframe thead th {\n",
              "        text-align: right;\n",
              "    }\n",
              "</style>\n",
              "<table border=\"1\" class=\"dataframe\">\n",
              "  <thead>\n",
              "    <tr style=\"text-align: right;\">\n",
              "      <th></th>\n",
              "      <th>title</th>\n",
              "      <th>original_title</th>\n",
              "    </tr>\n",
              "  </thead>\n",
              "  <tbody>\n",
              "    <tr>\n",
              "      <th>5</th>\n",
              "      <td>Dilwale Dulhania Le Jayenge</td>\n",
              "      <td>दिलवाले दुल्हनिया ले जायेंगे</td>\n",
              "    </tr>\n",
              "    <tr>\n",
              "      <th>6</th>\n",
              "      <td>Spirited Away</td>\n",
              "      <td>千と千尋の神隠し</td>\n",
              "    </tr>\n",
              "    <tr>\n",
              "      <th>8</th>\n",
              "      <td>Your Name.</td>\n",
              "      <td>君の名は。</td>\n",
              "    </tr>\n",
              "    <tr>\n",
              "      <th>9</th>\n",
              "      <td>Parasite</td>\n",
              "      <td>기생충</td>\n",
              "    </tr>\n",
              "    <tr>\n",
              "      <th>14</th>\n",
              "      <td>Dou kyu sei – Classmates</td>\n",
              "      <td>同級生</td>\n",
              "    </tr>\n",
              "    <tr>\n",
              "      <th>...</th>\n",
              "      <td>...</td>\n",
              "      <td>...</td>\n",
              "    </tr>\n",
              "    <tr>\n",
              "      <th>9938</th>\n",
              "      <td>Royal Palace</td>\n",
              "      <td>Palais royal !</td>\n",
              "    </tr>\n",
              "    <tr>\n",
              "      <th>9946</th>\n",
              "      <td>Ex 2: Still Friends</td>\n",
              "      <td>Ex - Amici come prima!</td>\n",
              "    </tr>\n",
              "    <tr>\n",
              "      <th>9951</th>\n",
              "      <td>Cheeky</td>\n",
              "      <td>Tra(sgre)dire</td>\n",
              "    </tr>\n",
              "    <tr>\n",
              "      <th>9952</th>\n",
              "      <td>Diary of a Nymphomaniac</td>\n",
              "      <td>Diario de una ninfómana</td>\n",
              "    </tr>\n",
              "    <tr>\n",
              "      <th>9969</th>\n",
              "      <td>Slack Bay</td>\n",
              "      <td>Ma Loute</td>\n",
              "    </tr>\n",
              "  </tbody>\n",
              "</table>\n",
              "<p>1972 rows × 2 columns</p>\n",
              "</div>\n",
              "      <button class=\"colab-df-convert\" onclick=\"convertToInteractive('df-94a167f7-9798-4a64-8a5b-700c9375b4f7')\"\n",
              "              title=\"Convert this dataframe to an interactive table.\"\n",
              "              style=\"display:none;\">\n",
              "        \n",
              "  <svg xmlns=\"http://www.w3.org/2000/svg\" height=\"24px\"viewBox=\"0 0 24 24\"\n",
              "       width=\"24px\">\n",
              "    <path d=\"M0 0h24v24H0V0z\" fill=\"none\"/>\n",
              "    <path d=\"M18.56 5.44l.94 2.06.94-2.06 2.06-.94-2.06-.94-.94-2.06-.94 2.06-2.06.94zm-11 1L8.5 8.5l.94-2.06 2.06-.94-2.06-.94L8.5 2.5l-.94 2.06-2.06.94zm10 10l.94 2.06.94-2.06 2.06-.94-2.06-.94-.94-2.06-.94 2.06-2.06.94z\"/><path d=\"M17.41 7.96l-1.37-1.37c-.4-.4-.92-.59-1.43-.59-.52 0-1.04.2-1.43.59L10.3 9.45l-7.72 7.72c-.78.78-.78 2.05 0 2.83L4 21.41c.39.39.9.59 1.41.59.51 0 1.02-.2 1.41-.59l7.78-7.78 2.81-2.81c.8-.78.8-2.07 0-2.86zM5.41 20L4 18.59l7.72-7.72 1.47 1.35L5.41 20z\"/>\n",
              "  </svg>\n",
              "      </button>\n",
              "      \n",
              "  <style>\n",
              "    .colab-df-container {\n",
              "      display:flex;\n",
              "      flex-wrap:wrap;\n",
              "      gap: 12px;\n",
              "    }\n",
              "\n",
              "    .colab-df-convert {\n",
              "      background-color: #E8F0FE;\n",
              "      border: none;\n",
              "      border-radius: 50%;\n",
              "      cursor: pointer;\n",
              "      display: none;\n",
              "      fill: #1967D2;\n",
              "      height: 32px;\n",
              "      padding: 0 0 0 0;\n",
              "      width: 32px;\n",
              "    }\n",
              "\n",
              "    .colab-df-convert:hover {\n",
              "      background-color: #E2EBFA;\n",
              "      box-shadow: 0px 1px 2px rgba(60, 64, 67, 0.3), 0px 1px 3px 1px rgba(60, 64, 67, 0.15);\n",
              "      fill: #174EA6;\n",
              "    }\n",
              "\n",
              "    [theme=dark] .colab-df-convert {\n",
              "      background-color: #3B4455;\n",
              "      fill: #D2E3FC;\n",
              "    }\n",
              "\n",
              "    [theme=dark] .colab-df-convert:hover {\n",
              "      background-color: #434B5C;\n",
              "      box-shadow: 0px 1px 3px 1px rgba(0, 0, 0, 0.15);\n",
              "      filter: drop-shadow(0px 1px 2px rgba(0, 0, 0, 0.3));\n",
              "      fill: #FFFFFF;\n",
              "    }\n",
              "  </style>\n",
              "\n",
              "      <script>\n",
              "        const buttonEl =\n",
              "          document.querySelector('#df-94a167f7-9798-4a64-8a5b-700c9375b4f7 button.colab-df-convert');\n",
              "        buttonEl.style.display =\n",
              "          google.colab.kernel.accessAllowed ? 'block' : 'none';\n",
              "\n",
              "        async function convertToInteractive(key) {\n",
              "          const element = document.querySelector('#df-94a167f7-9798-4a64-8a5b-700c9375b4f7');\n",
              "          const dataTable =\n",
              "            await google.colab.kernel.invokeFunction('convertToInteractive',\n",
              "                                                     [key], {});\n",
              "          if (!dataTable) return;\n",
              "\n",
              "          const docLinkHtml = 'Like what you see? Visit the ' +\n",
              "            '<a target=\"_blank\" href=https://colab.research.google.com/notebooks/data_table.ipynb>data table notebook</a>'\n",
              "            + ' to learn more about interactive tables.';\n",
              "          element.innerHTML = '';\n",
              "          dataTable['output_type'] = 'display_data';\n",
              "          await google.colab.output.renderOutput(dataTable, element);\n",
              "          const docLink = document.createElement('div');\n",
              "          docLink.innerHTML = docLinkHtml;\n",
              "          element.appendChild(docLink);\n",
              "        }\n",
              "      </script>\n",
              "    </div>\n",
              "  </div>\n",
              "  "
            ]
          },
          "metadata": {},
          "execution_count": 32
        }
      ]
    },
    {
      "cell_type": "markdown",
      "source": [
        "### It is sufficient to keep only one movie name field, so I deleted the original movie name field."
      ],
      "metadata": {
        "id": "TyCSlKMSlBjb"
      }
    },
    {
      "cell_type": "code",
      "source": [
        "df.drop(['original_title'],axis =1,inplace = True)\n",
        "df.shape"
      ],
      "metadata": {
        "id": "Vc8otLHe0Xoo",
        "colab": {
          "base_uri": "https://localhost:8080/"
        },
        "outputId": "8e71fff3-75f9-4834-de9b-86d77863498c"
      },
      "execution_count": null,
      "outputs": [
        {
          "output_type": "execute_result",
          "data": {
            "text/plain": [
              "(9978, 15)"
            ]
          },
          "metadata": {},
          "execution_count": 33
        }
      ]
    },
    {
      "cell_type": "markdown",
      "source": [
        "## **Graph 1. Top genras according to number of movies.**\n",
        "### Calculate the total number of movies in each top genre."
      ],
      "metadata": {
        "id": "bqDgsUaAlk4e"
      }
    },
    {
      "cell_type": "code",
      "source": [
        "def count(col):\n",
        "    data = df[col].str.cat(sep = ',') #Splice the genre name of each line with a comma.\n",
        "    data = pd.Series(data.split(',')) #Split each genre name by a comma and serialize it.\n",
        "    count = data.value_counts(ascending = False) #The number of films in each genre was calculated and then sorted in descending order.\n",
        "    return count"
      ],
      "metadata": {
        "id": "zwsu8PGU0Xd2"
      },
      "execution_count": null,
      "outputs": []
    },
    {
      "cell_type": "code",
      "source": [
        "genre_count = count('genres')\n",
        "genre_count"
      ],
      "metadata": {
        "id": "4rhMpmi90aWo",
        "colab": {
          "base_uri": "https://localhost:8080/"
        },
        "outputId": "cb04b387-f8bd-4d6d-a39f-f061437330a3"
      },
      "execution_count": null,
      "outputs": [
        {
          "output_type": "execute_result",
          "data": {
            "text/plain": [
              "Drama              4725\n",
              "Comedy             3634\n",
              "Thriller           2556\n",
              "Action             2199\n",
              "Romance            1752\n",
              "Adventure          1535\n",
              "Crime              1478\n",
              "Horror             1268\n",
              "Family             1156\n",
              "Fantasy            1087\n",
              "Science Fiction    1073\n",
              "Animation           956\n",
              "Mystery             899\n",
              "History             511\n",
              "War                 339\n",
              "Music               307\n",
              "Western             149\n",
              "TV Movie            148\n",
              "                      2\n",
              "dtype: int64"
            ]
          },
          "metadata": {},
          "execution_count": 35
        }
      ]
    },
    {
      "cell_type": "code",
      "source": [
        "genre_count = genre_count[0:18] #Take the top 18 genre names.\n",
        "genre_plt = genre_count.plot(kind=\"barh\",color=\"darkcyan\")\n",
        "genre_plt.set_xlabel('Numbers', fontsize = '10')\n",
        "genre_plt.set_ylabel('Genres', color = 'black', fontsize = '10')\n",
        "plt.title(\"Top_Genres\",size=15)"
      ],
      "metadata": {
        "id": "VDu_JI1q0aPT",
        "colab": {
          "base_uri": "https://localhost:8080/",
          "height": 315
        },
        "outputId": "386b9ab8-914c-4a78-b4d8-0fbaf7b8e5ad"
      },
      "execution_count": null,
      "outputs": [
        {
          "output_type": "execute_result",
          "data": {
            "text/plain": [
              "Text(0.5, 1.0, 'Top_Genres')"
            ]
          },
          "metadata": {},
          "execution_count": 36
        },
        {
          "output_type": "display_data",
          "data": {
            "text/plain": [
              "<Figure size 432x288 with 1 Axes>"
            ],
            "image/png": "[encoded data removed]"
          },
          "metadata": {
            "needs_background": "light"
          }
        }
      ]
    },
    {
      "cell_type": "code",
      "source": [
        "plt.figure(figsize=(10,8))\n",
        "genre_count.plot.pie(ylabel='Genre_series',autopct='%1.2f%%')"
      ],
      "metadata": {
        "id": "ul4yDxfo0aEN",
        "colab": {
          "base_uri": "https://localhost:8080/",
          "height": 484
        },
        "outputId": "8eaa141a-1bb4-49bd-f448-8e0452752de2"
      },
      "execution_count": null,
      "outputs": [
        {
          "output_type": "execute_result",
          "data": {
            "text/plain": [
              "<Axes: ylabel='Genre_series'>"
            ]
          },
          "metadata": {},
          "execution_count": 37
        },
        {
          "output_type": "display_data",
          "data": {
            "text/plain": [
              "<Figure size 720x576 with 1 Axes>"
            ],
            "image/png": "[encoded data removed]"
          },
          "metadata": {}
        }
      ]
    },
    {
      "cell_type": "markdown",
      "source": [
        "From the chart above we can see that the top four genres in terms of number of movies are Drama, Comedy, Thriller, Action. The genres of the last four movie numbers are TV Movie, Western, Music, War."
      ],
      "metadata": {
        "id": "QX6WTFMinze4"
      }
    },
    {
      "cell_type": "markdown",
      "source": [
        "## **Graph 2. Top movies according to popularity and vote average.**"
      ],
      "metadata": {
        "id": "uwXckBPJqk91"
      }
    },
    {
      "cell_type": "code",
      "source": [
        "import seaborn as sn\n",
        "movies_popularity = df[['title','popularity']]\n",
        "movies_vote_average = df[['title','vote_average']]\n",
        "\n",
        "f,(ax1, ax2) = plt.subplots(1,2,figsize=(16,8))\n",
        "\n",
        "ax = sn.barplot(\n",
        "    x = movies_popularity.sort_values(by=\"popularity\", ascending=False).head(10).title,\n",
        "    y = movies_popularity.sort_values(by=\"popularity\", ascending=False).head(10).popularity, ax = ax1)\n",
        "\n",
        "\n",
        "ax.set(xlabel='Movie_title', ylabel='Popularity', title = 'Top 10 movies(popularity)')\n",
        "ax.set_xticklabels(ax.get_xticklabels(),rotation = 90)\n",
        "ax = sn.barplot(\n",
        "    x = movies_vote_average.sort_values(by=\"vote_average\", ascending=False).head(10).title,\n",
        "    y = movies_vote_average.sort_values(by=\"vote_average\", ascending=False).head(10).vote_average, ax = ax2)\n",
        "\n",
        "\n",
        "ax.set(xlabel='Movie_title', ylabel='Vote_average', title = 'Top 10 movies(vote_average)')\n",
        "ax.set_xticklabels(ax.get_xticklabels(),rotation = 90)\n",
        "plt.show()"
      ],
      "metadata": {
        "id": "ygm7UN4M0h2S",
        "colab": {
          "base_uri": "https://localhost:8080/",
          "height": 665
        },
        "outputId": "64e72a5c-3924-4375-ced8-1cc27b35afa8"
      },
      "execution_count": null,
      "outputs": [
        {
          "output_type": "display_data",
          "data": {
            "text/plain": [
              "<Figure size 1152x576 with 2 Axes>"
            ],
            "image/png": "[encoded data removed]"
          },
          "metadata": {
            "needs_background": "light"
          }
        }
      ]
    },
    {
      "cell_type": "markdown",
      "source": [
        "As we can see from the two bar charts above, the top ten movies ranked according to popularity and average voting score are completely different."
      ],
      "metadata": {
        "id": "kmx5WtthpDYa"
      }
    },
    {
      "cell_type": "markdown",
      "source": [
        "## **Graph 3. Average vote number in each decade.**"
      ],
      "metadata": {
        "id": "pF_dN7dDra7x"
      }
    },
    {
      "cell_type": "code",
      "source": [
        "import math\n",
        "def decade(x):\n",
        "    return str(math.floor(x/10)*10)+\"s\" #Converts the year into a chronology."
      ],
      "metadata": {
        "id": "m5m6X39s0lY4"
      },
      "execution_count": null,
      "outputs": []
    },
    {
      "cell_type": "code",
      "source": [
        "df[\"decade\"] = df[\"release_year\"].apply(decade)\n",
        "df_decades = df\n",
        "df_decades = df_decades.sort_values(by=['decade'], ascending=True)\n",
        "df_average_vote_count = df_decades.groupby(['decade']).vote_count.mean().reset_index()\n",
        "df_average_vote_count"
      ],
      "metadata": {
        "id": "b9tdkLNt0oFE",
        "colab": {
          "base_uri": "https://localhost:8080/",
          "height": 488
        },
        "outputId": "1558696d-f951-4c86-92ea-011df7be17bb"
      },
      "execution_count": null,
      "outputs": [
        {
          "output_type": "execute_result",
          "data": {
            "text/plain": [
              "   decade   vote_count\n",
              "0   1890s   213.000000\n",
              "1   1900s  1006.000000\n",
              "2   1910s   298.200000\n",
              "3   1920s   714.000000\n",
              "4   1930s   828.833333\n",
              "5   1940s   757.733333\n",
              "6   1950s   868.098837\n",
              "7   1960s   838.286765\n",
              "8   1970s  1024.339286\n",
              "9   1980s  1153.744094\n",
              "10  1990s  1575.780428\n",
              "11  2000s  1871.099911\n",
              "12  2010s  1940.404289\n",
              "13  2020s  1099.985310"
            ],
            "text/html": [
              "\n",
              "  <div id=\"df-6fc028e2-3036-4292-8601-be67be26beb7\">\n",
              "    <div class=\"colab-df-container\">\n",
              "      <div>\n",
              "<style scoped>\n",
              "    .dataframe tbody tr th:only-of-type {\n",
              "        vertical-align: middle;\n",
              "    }\n",
              "\n",
              "    .dataframe tbody tr th {\n",
              "        vertical-align: top;\n",
              "    }\n",
              "\n",
              "    .dataframe thead th {\n",
              "        text-align: right;\n",
              "    }\n",
              "</style>\n",
              "<table border=\"1\" class=\"dataframe\">\n",
              "  <thead>\n",
              "    <tr style=\"text-align: right;\">\n",
              "      <th></th>\n",
              "      <th>decade</th>\n",
              "      <th>vote_count</th>\n",
              "    </tr>\n",
              "  </thead>\n",
              "  <tbody>\n",
              "    <tr>\n",
              "      <th>0</th>\n",
              "      <td>1890s</td>\n",
              "      <td>213.000000</td>\n",
              "    </tr>\n",
              "    <tr>\n",
              "      <th>1</th>\n",
              "      <td>1900s</td>\n",
              "      <td>1006.000000</td>\n",
              "    </tr>\n",
              "    <tr>\n",
              "      <th>2</th>\n",
              "      <td>1910s</td>\n",
              "      <td>298.200000</td>\n",
              "    </tr>\n",
              "    <tr>\n",
              "      <th>3</th>\n",
              "      <td>1920s</td>\n",
              "      <td>714.000000</td>\n",
              "    </tr>\n",
              "    <tr>\n",
              "      <th>4</th>\n",
              "      <td>1930s</td>\n",
              "      <td>828.833333</td>\n",
              "    </tr>\n",
              "    <tr>\n",
              "      <th>5</th>\n",
              "      <td>1940s</td>\n",
              "      <td>757.733333</td>\n",
              "    </tr>\n",
              "    <tr>\n",
              "      <th>6</th>\n",
              "      <td>1950s</td>\n",
              "      <td>868.098837</td>\n",
              "    </tr>\n",
              "    <tr>\n",
              "      <th>7</th>\n",
              "      <td>1960s</td>\n",
              "      <td>838.286765</td>\n",
              "    </tr>\n",
              "    <tr>\n",
              "      <th>8</th>\n",
              "      <td>1970s</td>\n",
              "      <td>1024.339286</td>\n",
              "    </tr>\n",
              "    <tr>\n",
              "      <th>9</th>\n",
              "      <td>1980s</td>\n",
              "      <td>1153.744094</td>\n",
              "    </tr>\n",
              "    <tr>\n",
              "      <th>10</th>\n",
              "      <td>1990s</td>\n",
              "      <td>1575.780428</td>\n",
              "    </tr>\n",
              "    <tr>\n",
              "      <th>11</th>\n",
              "      <td>2000s</td>\n",
              "      <td>1871.099911</td>\n",
              "    </tr>\n",
              "    <tr>\n",
              "      <th>12</th>\n",
              "      <td>2010s</td>\n",
              "      <td>1940.404289</td>\n",
              "    </tr>\n",
              "    <tr>\n",
              "      <th>13</th>\n",
              "      <td>2020s</td>\n",
              "      <td>1099.985310</td>\n",
              "    </tr>\n",
              "  </tbody>\n",
              "</table>\n",
              "</div>\n",
              "      <button class=\"colab-df-convert\" onclick=\"convertToInteractive('df-6fc028e2-3036-4292-8601-be67be26beb7')\"\n",
              "              title=\"Convert this dataframe to an interactive table.\"\n",
              "              style=\"display:none;\">\n",
              "        \n",
              "  <svg xmlns=\"http://www.w3.org/2000/svg\" height=\"24px\"viewBox=\"0 0 24 24\"\n",
              "       width=\"24px\">\n",
              "    <path d=\"M0 0h24v24H0V0z\" fill=\"none\"/>\n",
              "    <path d=\"M18.56 5.44l.94 2.06.94-2.06 2.06-.94-2.06-.94-.94-2.06-.94 2.06-2.06.94zm-11 1L8.5 8.5l.94-2.06 2.06-.94-2.06-.94L8.5 2.5l-.94 2.06-2.06.94zm10 10l.94 2.06.94-2.06 2.06-.94-2.06-.94-.94-2.06-.94 2.06-2.06.94z\"/><path d=\"M17.41 7.96l-1.37-1.37c-.4-.4-.92-.59-1.43-.59-.52 0-1.04.2-1.43.59L10.3 9.45l-7.72 7.72c-.78.78-.78 2.05 0 2.83L4 21.41c.39.39.9.59 1.41.59.51 0 1.02-.2 1.41-.59l7.78-7.78 2.81-2.81c.8-.78.8-2.07 0-2.86zM5.41 20L4 18.59l7.72-7.72 1.47 1.35L5.41 20z\"/>\n",
              "  </svg>\n",
              "      </button>\n",
              "      \n",
              "  <style>\n",
              "    .colab-df-container {\n",
              "      display:flex;\n",
              "      flex-wrap:wrap;\n",
              "      gap: 12px;\n",
              "    }\n",
              "\n",
              "    .colab-df-convert {\n",
              "      background-color: #E8F0FE;\n",
              "      border: none;\n",
              "      border-radius: 50%;\n",
              "      cursor: pointer;\n",
              "      display: none;\n",
              "      fill: #1967D2;\n",
              "      height: 32px;\n",
              "      padding: 0 0 0 0;\n",
              "      width: 32px;\n",
              "    }\n",
              "\n",
              "    .colab-df-convert:hover {\n",
              "      background-color: #E2EBFA;\n",
              "      box-shadow: 0px 1px 2px rgba(60, 64, 67, 0.3), 0px 1px 3px 1px rgba(60, 64, 67, 0.15);\n",
              "      fill: #174EA6;\n",
              "    }\n",
              "\n",
              "    [theme=dark] .colab-df-convert {\n",
              "      background-color: #3B4455;\n",
              "      fill: #D2E3FC;\n",
              "    }\n",
              "\n",
              "    [theme=dark] .colab-df-convert:hover {\n",
              "      background-color: #434B5C;\n",
              "      box-shadow: 0px 1px 3px 1px rgba(0, 0, 0, 0.15);\n",
              "      filter: drop-shadow(0px 1px 2px rgba(0, 0, 0, 0.3));\n",
              "      fill: #FFFFFF;\n",
              "    }\n",
              "  </style>\n",
              "\n",
              "      <script>\n",
              "        const buttonEl =\n",
              "          document.querySelector('#df-6fc028e2-3036-4292-8601-be67be26beb7 button.colab-df-convert');\n",
              "        buttonEl.style.display =\n",
              "          google.colab.kernel.accessAllowed ? 'block' : 'none';\n",
              "\n",
              "        async function convertToInteractive(key) {\n",
              "          const element = document.querySelector('#df-6fc028e2-3036-4292-8601-be67be26beb7');\n",
              "          const dataTable =\n",
              "            await google.colab.kernel.invokeFunction('convertToInteractive',\n",
              "                                                     [key], {});\n",
              "          if (!dataTable) return;\n",
              "\n",
              "          const docLinkHtml = 'Like what you see? Visit the ' +\n",
              "            '<a target=\"_blank\" href=https://colab.research.google.com/notebooks/data_table.ipynb>data table notebook</a>'\n",
              "            + ' to learn more about interactive tables.';\n",
              "          element.innerHTML = '';\n",
              "          dataTable['output_type'] = 'display_data';\n",
              "          await google.colab.output.renderOutput(dataTable, element);\n",
              "          const docLink = document.createElement('div');\n",
              "          docLink.innerHTML = docLinkHtml;\n",
              "          element.appendChild(docLink);\n",
              "        }\n",
              "      </script>\n",
              "    </div>\n",
              "  </div>\n",
              "  "
            ]
          },
          "metadata": {},
          "execution_count": 40
        }
      ]
    },
    {
      "cell_type": "code",
      "source": [
        "ax = sn.barplot(x=df_average_vote_count['decade'], y=df_average_vote_count['vote_count'])\n",
        "ax.set_title(\"Average_Vote_Count Each Decade\",fontsize=15)\n",
        "ax.set_xlabel(\"Decades\",fontsize=12)\n",
        "ax.set_ylabel(\"Average_Vote_Count\",fontsize=12)\n",
        "ax.set_xticklabels(ax.get_xticklabels(),rotation = 90)\n",
        "plt.show()"
      ],
      "metadata": {
        "id": "i-8_C81w0n6f",
        "colab": {
          "base_uri": "https://localhost:8080/",
          "height": 321
        },
        "outputId": "bd61c019-b961-4033-a9cf-ef4f0d0ec780"
      },
      "execution_count": null,
      "outputs": [
        {
          "output_type": "display_data",
          "data": {
            "text/plain": [
              "<Figure size 432x288 with 1 Axes>"
            ],
            "image/png": "[encoded data removed]"
          },
          "metadata": {
            "needs_background": "light"
          }
        }
      ]
    },
    {
      "cell_type": "markdown",
      "source": [
        "## **Graph 4. Top movies according to budget and revenue.**"
      ],
      "metadata": {
        "id": "NhSEaW_Vrv_F"
      }
    },
    {
      "cell_type": "code",
      "source": [
        "f,(ax1,ax2) = plt.subplots(1,2,figsize=(15,8)) #Set up a canvas with one row and two columns.\n",
        "\n",
        "#Top 10 movies according to budget.\n",
        "df_budget = df[['title','budget']]\n",
        "\n",
        "ax = sn.barplot(\n",
        "    x = df_budget.sort_values(by=\"budget\", ascending=False).head(10).title,\n",
        "    y = df_budget.sort_values(by=\"budget\", ascending=False).head(10).budget, ax = ax1)\n",
        "\n",
        "ax.set(xlabel='Movie_Name', ylabel='Budget', title = 'Top 10 movies(Budget)')\n",
        "ax.set_xticklabels(ax.get_xticklabels(),rotation = 90)\n",
        "\n",
        "#Top 10 movies according to revenue.\n",
        "df_revenue = df[['title','revenue']]\n",
        "\n",
        "ax = sn.barplot(\n",
        "    x = df_revenue.sort_values(by=\"revenue\", ascending=False).head(10).title,\n",
        "    y = df_revenue.sort_values(by=\"revenue\", ascending=False).head(10).revenue, ax = ax2)\n",
        "\n",
        "ax.set(xlabel='Movie_Name', ylabel='Revenue', title = 'Top 10 movies(Revenue)')\n",
        "ax.set_xticklabels(ax.get_xticklabels(),rotation = 90)\n",
        "\n",
        "plt.show()"
      ],
      "metadata": {
        "id": "hlspQDLW0tZS",
        "colab": {
          "base_uri": "https://localhost:8080/",
          "height": 721
        },
        "outputId": "ad45d616-5380-4324-d77a-afb856b5801b"
      },
      "execution_count": null,
      "outputs": [
        {
          "output_type": "display_data",
          "data": {
            "text/plain": [
              "<Figure size 1080x576 with 2 Axes>"
            ],
            "image/png": "[encoded data removed]"
          },
          "metadata": {
            "needs_background": "light"
          }
        }
      ]
    },
    {
      "cell_type": "markdown",
      "source": [
        "## **Graph 5. Average runtime in each decade.**"
      ],
      "metadata": {
        "id": "MCzPdl_KshoP"
      }
    },
    {
      "cell_type": "code",
      "source": [
        "df_new = df.sort_values(by=['decade'], ascending=True)\n",
        "df_average_runtime = df_new.groupby(['decade']).runtime.mean().reset_index()\n",
        "ax = sn.barplot(x=df_average_runtime['decade'], y=df_average_runtime['runtime'])\n",
        "ax.set_title(\"Average_Runtime Each Decade\",fontsize=13)\n",
        "ax.set_xlabel(\"Decades\",fontsize=12)\n",
        "ax.set_ylabel(\"Average_Runtime\",fontsize=12)\n",
        "ax.set_xticklabels(ax.get_xticklabels(),rotation = 90)\n",
        "\n",
        "plt.show()"
      ],
      "metadata": {
        "id": "iiDed5Wa0tK8",
        "colab": {
          "base_uri": "https://localhost:8080/",
          "height": 319
        },
        "outputId": "f92a3f3f-01b3-4a45-e88d-a53c18837b3d"
      },
      "execution_count": null,
      "outputs": [
        {
          "output_type": "display_data",
          "data": {
            "text/plain": [
              "<Figure size 432x288 with 1 Axes>"
            ],
            "image/png": "[encoded data removed]"
          },
          "metadata": {
            "needs_background": "light"
          }
        }
      ]
    },
    {
      "cell_type": "markdown",
      "source": [
        "## **Graph 6. Top 10 movies according to profit.**"
      ],
      "metadata": {
        "id": "bXxsea_rs738"
      }
    },
    {
      "cell_type": "code",
      "source": [
        "df[\"profit\"] = df[\"revenue\"] - df[\"budget\"] #Set up a new profit column."
      ],
      "metadata": {
        "id": "fYAsYw5M1E52"
      },
      "execution_count": null,
      "outputs": []
    },
    {
      "cell_type": "code",
      "source": [
        "df_profit = df[['title','profit']]\n",
        "\n",
        "ax = sn.barplot(\n",
        "    x = df_profit.sort_values(by=\"profit\", ascending=False).head(10).title,\n",
        "    y = df_profit.sort_values(by=\"profit\", ascending=False).head(10).profit)\n",
        "\n",
        "ax.set(xlabel='Movie_Name', ylabel='Profit', title = 'Top 10 movies(Profit)')\n",
        "ax.set_xticklabels(ax.get_xticklabels(),rotation = 90)\n",
        "\n",
        "plt.show()"
      ],
      "metadata": {
        "id": "r5hkviaX1Hj_",
        "colab": {
          "base_uri": "https://localhost:8080/",
          "height": 436
        },
        "outputId": "5230bf9f-b966-4887-fdea-839113a73d34"
      },
      "execution_count": null,
      "outputs": [
        {
          "output_type": "display_data",
          "data": {
            "text/plain": [
              "<Figure size 432x288 with 1 Axes>"
            ],
            "image/png": "[encoded data removed]"
          },
          "metadata": {
            "needs_background": "light"
          }
        }
      ]
    },
    {
      "cell_type": "markdown",
      "source": [
        "## **Graph 7. Relationship among profit, revenue and budget.**"
      ],
      "metadata": {
        "id": "Rc6R7sn1tPw_"
      }
    },
    {
      "cell_type": "code",
      "source": [
        "f,(ax1,ax2,ax3) = plt.subplots(1,3,figsize=(10,8))\n",
        "\n",
        "#Correlation between revenue and profit.\n",
        "sn.regplot(x=df['revenue'], y=df['profit'],color='r',ax=ax1)\n",
        "ax.set_title(\"Profit vs Revenue\",fontsize=13)\n",
        "ax.set_xlabel(\"Profit\",fontsize=12)\n",
        "ax.set_ylabel(\"Revenue\",fontsize=12)\n",
        "profit_revenue_corr = df.corr()\n",
        "print(\"Correlation Between Profit And Revenue: \",profit_revenue_corr.loc['profit','revenue'])\n",
        "\n",
        "#Correlation between budget and profit.\n",
        "sn.regplot(x=df['profit'], y=df['budget'],color='g',ax=ax2)\n",
        "ax.set_title(\"Profit vs Budget\",fontsize=13)\n",
        "ax.set_xlabel(\"Profit\",fontsize=12)\n",
        "ax.set_ylabel(\"Budget\",fontsize=12)\n",
        "profit_budget_corr = df.corr()\n",
        "print(\"Correlation Between Profit And Budget: \",profit_budget_corr.loc['profit','budget'])\n",
        "\n",
        "#Correlation between revenue and budget.\n",
        "sn.regplot(x=df['revenue'], y=df['budget'],color='b',ax=ax3)\n",
        "ax.set_title(\"Revenue vs Budget\",fontsize=13)\n",
        "ax.set_xlabel(\"Revenue\",fontsize=12)\n",
        "ax.set_ylabel(\"Budget\",fontsize=12)\n",
        "revenue_budget_corr = df.corr()\n",
        "print(\"Correlation Between Revenue And Budget: \",revenue_budget_corr.loc['revenue','budget'])\n",
        "\n",
        "plt.show()"
      ],
      "metadata": {
        "id": "MJ5QKjPN1Ha6",
        "colab": {
          "base_uri": "https://localhost:8080/",
          "height": 562
        },
        "outputId": "1c7cf665-17c4-44bf-98f7-5c309a7a507e"
      },
      "execution_count": null,
      "outputs": [
        {
          "output_type": "stream",
          "name": "stdout",
          "text": [
            "Correlation Between Profit And Revenue:  0.9823542300873093\n",
            "Correlation Between Profit And Budget:  0.6162511113090632\n",
            "Correlation Between Revenue And Budget:  0.7526721966131308\n"
          ]
        },
        {
          "output_type": "display_data",
          "data": {
            "text/plain": [
              "<Figure size 720x576 with 3 Axes>"
            ],
            "image/png": "[encoded data removed]"
          },
          "metadata": {
            "needs_background": "light"
          }
        }
      ]
    },
    {
      "cell_type": "markdown",
      "source": [
        "### Observations:\n",
        "\n",
        "\n",
        "1.   Revenue and profit are very closely related. Higher revenues mean higher profits.\n",
        "2.   The relationship between budget and profit is not as strong, so higher budgets do not necessarily lead to higher profits.  "
      ],
      "metadata": {
        "id": "Yt56X-nMucWn"
      }
    },
    {
      "cell_type": "markdown",
      "source": [
        "## **Graph 8.Top companies according to number of movies.**"
      ],
      "metadata": {
        "id": "OKjx4biEwGaO"
      }
    },
    {
      "cell_type": "code",
      "source": [
        "count_company = count('production_companies')\n",
        "count_company = count_company[:10] #Top 10 companies.\n",
        "\n",
        "plt_company = count_company.plot(kind=\"barh\",color=\"red\")\n",
        "\n",
        "plt_company.set_ylabel('Companies', color = 'black', fontsize = '13')\n",
        "plt_company.set_xlabel('Number of Movies', fontsize = '13')\n",
        "\n",
        "plt.title(\"Top Companies\",size=20)"
      ],
      "metadata": {
        "id": "78wER9MW1HRg",
        "colab": {
          "base_uri": "https://localhost:8080/",
          "height": 321
        },
        "outputId": "2160df8b-3ced-4b37-d577-7ea6158589cb"
      },
      "execution_count": null,
      "outputs": [
        {
          "output_type": "execute_result",
          "data": {
            "text/plain": [
              "Text(0.5, 1.0, 'Top Companies')"
            ]
          },
          "metadata": {},
          "execution_count": 47
        },
        {
          "output_type": "display_data",
          "data": {
            "text/plain": [
              "<Figure size 432x288 with 1 Axes>"
            ],
            "image/png": "[encoded data removed]"
          },
          "metadata": {
            "needs_background": "light"
          }
        }
      ]
    },
    {
      "cell_type": "markdown",
      "source": [
        "## **Graph 9. The average profit direction of all movies in each decade.**"
      ],
      "metadata": {
        "id": "R8kQ1Tjcxo6j"
      }
    },
    {
      "cell_type": "code",
      "source": [
        "df.groupby('decade')['profit'].mean().plot()\n",
        "\n",
        "plt.title(\"Average Profit per decade(Films)\",fontsize = 15)\n",
        "plt.xlabel('Release_Year',fontsize = 13)\n",
        "plt.ylabel('Average_Profit ',fontsize = 13)"
      ],
      "metadata": {
        "id": "Ga8msQeT1ZYL",
        "colab": {
          "base_uri": "https://localhost:8080/",
          "height": 318
        },
        "outputId": "6060d01a-794b-446f-d6a1-64e33f1f3fbe"
      },
      "execution_count": null,
      "outputs": [
        {
          "output_type": "execute_result",
          "data": {
            "text/plain": [
              "Text(0, 0.5, 'Average_Profit ')"
            ]
          },
          "metadata": {},
          "execution_count": 48
        },
        {
          "output_type": "display_data",
          "data": {
            "text/plain": [
              "<Figure size 432x288 with 1 Axes>"
            ],
            "image/png": "[encoded data removed]"
          },
          "metadata": {
            "needs_background": "light"
          }
        }
      ]
    },
    {
      "cell_type": "code",
      "source": [
        "df_average_month_profit = df\n",
        "\n",
        "df_average_month_profit = df_average_month_profit.sort_values(by=['release_month'], ascending=True)\n",
        "df_profit = df_average_month_profit.groupby(['release_month']).profit.mean().reset_index()\n",
        "ax = sn.barplot(x=df_profit['release_month'], y=df_profit['profit'])\n",
        "ax.set_title(\"Average_Profit for Each Month\",fontsize=13)\n",
        "ax.set_xlabel(\"Decades\",fontsize=12)\n",
        "ax.set_ylabel(\"Average_Profit\",fontsize=12)\n",
        "\n",
        "plt.show()"
      ],
      "metadata": {
        "colab": {
          "base_uri": "https://localhost:8080/",
          "height": 298
        },
        "id": "UFLBFmdp0a7r",
        "outputId": "1190db40-8a38-445b-d427-6f46dbd6542c"
      },
      "execution_count": null,
      "outputs": [
        {
          "output_type": "display_data",
          "data": {
            "text/plain": [
              "<Figure size 432x288 with 1 Axes>"
            ],
            "image/png": "[encoded data removed]"
          },
          "metadata": {
            "needs_background": "light"
          }
        }
      ]
    },
    {
      "cell_type": "markdown",
      "source": [
        "## Observations:\n",
        "\n",
        "\n",
        "1.   Between the 1890s and 1920s, overall average profit of films were flat, with little change.\n",
        "2.   The overall average profit of films reached a new height in the 1930s.\n",
        "3.   The overall average profit of post-1940s films saw a spurt of growth, but then fell back sharply after the 2010s.\n",
        "4.   In all these decades, the month with the highest average profit is June and the month with the lowest is January.\n"
      ],
      "metadata": {
        "id": "RFZ7evtVyUIq"
      }
    },
    {
      "cell_type": "code",
      "source": [
        "!pip install wordcloud"
      ],
      "metadata": {
        "id": "CCxm4My21ZPr",
        "colab": {
          "base_uri": "https://localhost:8080/"
        },
        "outputId": "da3b1fdf-2c42-45d2-c42c-70097316eaec"
      },
      "execution_count": null,
      "outputs": [
        {
          "output_type": "stream",
          "name": "stdout",
          "text": [
            "Looking in indexes: https://pypi.org/simple, https://us-python.pkg.dev/colab-wheels/public/simple/\n",
            "Requirement already satisfied: wordcloud in /usr/local/lib/python3.9/dist-packages (1.8.2.2)\n",
            "Requirement already satisfied: numpy>=1.6.1 in /usr/local/lib/python3.9/dist-packages (from wordcloud) (1.22.4)\n",
            "Requirement already satisfied: matplotlib in /usr/local/lib/python3.9/dist-packages (from wordcloud) (3.7.1)\n",
            "Requirement already satisfied: pillow in /usr/local/lib/python3.9/dist-packages (from wordcloud) (8.4.0)\n",
            "Requirement already satisfied: cycler>=0.10 in /usr/local/lib/python3.9/dist-packages (from matplotlib->wordcloud) (0.11.0)\n",
            "Requirement already satisfied: fonttools>=4.22.0 in /usr/local/lib/python3.9/dist-packages (from matplotlib->wordcloud) (4.39.2)\n",
            "Requirement already satisfied: python-dateutil>=2.7 in /usr/local/lib/python3.9/dist-packages (from matplotlib->wordcloud) (2.8.2)\n",
            "Requirement already satisfied: pyparsing>=2.3.1 in /usr/local/lib/python3.9/dist-packages (from matplotlib->wordcloud) (3.0.9)\n",
            "Requirement already satisfied: contourpy>=1.0.1 in /usr/local/lib/python3.9/dist-packages (from matplotlib->wordcloud) (1.0.7)\n",
            "Requirement already satisfied: packaging>=20.0 in /usr/local/lib/python3.9/dist-packages (from matplotlib->wordcloud) (23.0)\n",
            "Requirement already satisfied: importlib-resources>=3.2.0 in /usr/local/lib/python3.9/dist-packages (from matplotlib->wordcloud) (5.12.0)\n",
            "Requirement already satisfied: kiwisolver>=1.0.1 in /usr/local/lib/python3.9/dist-packages (from matplotlib->wordcloud) (1.4.4)\n",
            "Requirement already satisfied: zipp>=3.1.0 in /usr/local/lib/python3.9/dist-packages (from importlib-resources>=3.2.0->matplotlib->wordcloud) (3.15.0)\n",
            "Requirement already satisfied: six>=1.5 in /usr/local/lib/python3.9/dist-packages (from python-dateutil>=2.7->matplotlib->wordcloud) (1.16.0)\n"
          ]
        }
      ]
    },
    {
      "cell_type": "markdown",
      "source": [
        "## **Graph 10. Movie overview keywords popularity.**"
      ],
      "metadata": {
        "id": "riYj90AMz30d"
      }
    },
    {
      "cell_type": "code",
      "source": [
        "from wordcloud import WordCloud,STOPWORDS\n",
        "raw_text = df.overview.values\n",
        "wordcloud = WordCloud(\n",
        "    width = 4000,\n",
        "    height = 3000,\n",
        "    background_color = 'white',\n",
        "    stopwords = STOPWORDS).generate(str(raw_text))\n",
        "f = plt.figure(\n",
        "    figsize = (10, 10),\n",
        "    facecolor = 'b',\n",
        "    edgecolor = 'b')\n",
        "plt.imshow(wordcloud)\n",
        "plt.axis('off')\n",
        "plt.show()"
      ],
      "metadata": {
        "id": "WPHuD8kG1d-J",
        "colab": {
          "base_uri": "https://localhost:8080/",
          "height": 449
        },
        "outputId": "9142aa9b-8d19-424a-8c71-f4fa26df1c4c"
      },
      "execution_count": null,
      "outputs": [
        {
          "output_type": "display_data",
          "data": {
            "text/plain": [
              "<Figure size 720x720 with 1 Axes>"
            ],
            "image/png": "[encoded data removed]"
          },
          "metadata": {}
        }
      ]
    },
    {
      "cell_type": "markdown",
      "source": [
        "## **Graph 11. Top companies according to number of movies.**"
      ],
      "metadata": {
        "id": "ZagHiMjs3Adz"
      }
    },
    {
      "cell_type": "code",
      "source": [
        "country_max_movies = count('production_countries')\n",
        "country_max_movies_df = pd.DataFrame({'country_name':country_max_movies.index,'number_of_movies':country_max_movies.values})\n",
        "\n",
        "ax = sn.barplot(\n",
        "    x = country_max_movies_df.head(10).country_name,\n",
        "    y = country_max_movies_df.head(10).number_of_movies)\n",
        "\n",
        "ax.set(xlabel='Country_Name', ylabel='Number_of_Movies', title = 'Top 10 companys(Number of Movies)')\n",
        "ax.set_xticklabels(ax.get_xticklabels(),rotation = 90)\n",
        "\n",
        "plt.show()"
      ],
      "metadata": {
        "id": "lxwYKlkY1d0_",
        "colab": {
          "base_uri": "https://localhost:8080/",
          "height": 411
        },
        "outputId": "97ab4b77-06e0-4c7c-cf8d-70916abea2b7"
      },
      "execution_count": null,
      "outputs": [
        {
          "output_type": "display_data",
          "data": {
            "text/plain": [
              "<Figure size 432x288 with 1 Axes>"
            ],
            "image/png": "[encoded data removed]"
          },
          "metadata": {
            "needs_background": "light"
          }
        }
      ]
    },
    {
      "cell_type": "markdown",
      "source": [
        "## Observations:  \n",
        "The United States has produced the most films of any of these decades. Perhaps because the U.S. provided more data for TMDB or even the U.S. sponsored TMDB."
      ],
      "metadata": {
        "id": "bA4FA4sU30jH"
      }
    }
  ]
}